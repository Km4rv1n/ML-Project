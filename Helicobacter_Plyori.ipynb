{
  "nbformat": 4,
  "nbformat_minor": 0,
  "metadata": {
    "colab": {
      "provenance": []
    },
    "kernelspec": {
      "name": "python3",
      "display_name": "Python 3"
    },
    "language_info": {
      "name": "python"
    }
  },
  "cells": [
    {
      "cell_type": "markdown",
      "source": [
        "# **Decision-Tree Classifier**"
      ],
      "metadata": {
        "id": "JiAEQHBIkUxA"
      }
    },
    {
      "cell_type": "code",
      "execution_count": null,
      "metadata": {
        "colab": {
          "base_uri": "https://localhost:8080/"
        },
        "id": "717btS84aSSG",
        "outputId": "f97a39da-24f3-4fac-b619-7723cef50fac"
      },
      "outputs": [
        {
          "output_type": "stream",
          "name": "stdout",
          "text": [
            "[[2 0 0 0]\n",
            " [1 1 0 0]\n",
            " [0 0 2 0]\n",
            " [0 0 0 2]]\n",
            "              precision    recall  f1-score   support\n",
            "\n",
            "           0       0.67      1.00      0.80         2\n",
            "           1       1.00      0.50      0.67         2\n",
            "           2       1.00      1.00      1.00         2\n",
            "           3       1.00      1.00      1.00         2\n",
            "\n",
            "    accuracy                           0.88         8\n",
            "   macro avg       0.92      0.88      0.87         8\n",
            "weighted avg       0.92      0.88      0.87         8\n",
            "\n",
            "Depth of the tree: 3\n"
          ]
        }
      ],
      "source": [
        "import pandas as pd\n",
        "from sklearn.tree import DecisionTreeClassifier\n",
        "from sklearn.preprocessing import LabelEncoder\n",
        "from sklearn.metrics import classification_report, confusion_matrix\n",
        "\n",
        "# Load your training and test data\n",
        "train_data_path = \"/content/training_Helicobacter pylori.data\"\n",
        "test_data_path = \"/content/test_Helicobacter pylori.data\"\n",
        "\n",
        "train_data = pd.read_csv(train_data_path, header=None, delimiter=',')\n",
        "test_data = pd.read_csv(test_data_path, header=None, delimiter=',')\n",
        "\n",
        "# Assuming the last column is the target variable for both train and test datasets\n",
        "X_train = train_data.iloc[:, :-1]\n",
        "y_train = train_data.iloc[:, -1]\n",
        "X_test = test_data.iloc[:, :-1]\n",
        "y_test = test_data.iloc[:, -1]\n",
        "\n",
        "# Encode the target variable\n",
        "labelencoder = LabelEncoder()\n",
        "y_train_encoded = labelencoder.fit_transform(y_train)\n",
        "y_test_encoded = labelencoder.transform(y_test)  # Transform the test labels with the same encoder\n",
        "\n",
        "# Initialize the DecisionTreeClassifier\n",
        "classifier = DecisionTreeClassifier()\n",
        "\n",
        "# Train the classifier\n",
        "classifier.fit(X_train, y_train_encoded)\n",
        "\n",
        "# Predict the labels of the test set\n",
        "y_predicted = classifier.predict(X_test)\n",
        "\n",
        "# Evaluate the model\n",
        "print(confusion_matrix(y_test_encoded, y_predicted))\n",
        "print(classification_report(y_test_encoded, y_predicted))\n",
        "\n",
        "# Print the depth of the tree\n",
        "print(\"Depth of the tree:\", classifier.get_depth())\n"
      ]
    },
    {
      "cell_type": "markdown",
      "source": [
        "# **KNN*\n",
        "label encoded output\n"
      ],
      "metadata": {
        "id": "-y_DPE6EkiM2"
      }
    },
    {
      "cell_type": "code",
      "source": [
        "import pandas as pd\n",
        "from sklearn.neighbors import KNeighborsClassifier\n",
        "from sklearn.preprocessing import LabelEncoder\n",
        "from sklearn.metrics import classification_report, confusion_matrix\n",
        "\n",
        "# Load your training and test data\n",
        "train_data_path = \"/content/training_Helicobacter pylori.data\"\n",
        "test_data_path = \"/content/test_Helicobacter pylori.data\"\n",
        "\n",
        "train_data = pd.read_csv(train_data_path, header=None, delimiter=',')\n",
        "test_data = pd.read_csv(test_data_path, header=None, delimiter=',')\n",
        "\n",
        "# Assuming the last column is the target variable for both train and test datasets\n",
        "X_train = train_data.iloc[:, :-1]\n",
        "y_train = train_data.iloc[:, -1]\n",
        "X_test = test_data.iloc[:, :-1]\n",
        "y_test = test_data.iloc[:, -1]\n",
        "\n",
        "# Encode the target variable\n",
        "labelencoder = LabelEncoder()\n",
        "y_train_encoded = labelencoder.fit_transform(y_train)\n",
        "y_test_encoded = labelencoder.transform(y_test)  # Transform the test labels with the same encoder\n",
        "\n",
        "# Initialize the KNeighborsClassifier\n",
        "classifier = KNeighborsClassifier(n_neighbors=10)\n",
        "\n",
        "# Train the classifier\n",
        "classifier.fit(X_train, y_train_encoded)\n",
        "\n",
        "# Predict the labels of the test set\n",
        "y_predicted = classifier.predict(X_test)\n",
        "\n",
        "# Evaluate the model\n",
        "print(confusion_matrix(y_test_encoded, y_predicted))\n",
        "print(classification_report(y_test_encoded, y_predicted))\n"
      ],
      "metadata": {
        "colab": {
          "base_uri": "https://localhost:8080/"
        },
        "id": "sAQIfkIphAN6",
        "outputId": "0a4adf0e-4245-411c-9ee8-204ac10f1580"
      },
      "execution_count": null,
      "outputs": [
        {
          "output_type": "stream",
          "name": "stdout",
          "text": [
            "[[2 0 0 0]\n",
            " [0 2 0 0]\n",
            " [0 0 2 0]\n",
            " [0 0 0 2]]\n",
            "              precision    recall  f1-score   support\n",
            "\n",
            "           0       1.00      1.00      1.00         2\n",
            "           1       1.00      1.00      1.00         2\n",
            "           2       1.00      1.00      1.00         2\n",
            "           3       1.00      1.00      1.00         2\n",
            "\n",
            "    accuracy                           1.00         8\n",
            "   macro avg       1.00      1.00      1.00         8\n",
            "weighted avg       1.00      1.00      1.00         8\n",
            "\n"
          ]
        }
      ]
    },
    {
      "cell_type": "markdown",
      "source": [
        "# **KNN*\n",
        "non-encoded output"
      ],
      "metadata": {
        "id": "S5Nt6RSNkwXp"
      }
    },
    {
      "cell_type": "code",
      "source": [
        "import pandas as pd\n",
        "from sklearn.neighbors import KNeighborsClassifier\n",
        "from sklearn.metrics import classification_report, confusion_matrix\n",
        "\n",
        "# Load your training and test data\n",
        "train_data_path = \"/content/training_Helicobacter pylori.data\"\n",
        "test_data_path = \"/content/test_Helicobacter pylori.data\"\n",
        "\n",
        "train_data = pd.read_csv(train_data_path, header=None, delimiter=',')\n",
        "test_data = pd.read_csv(test_data_path, header=None, delimiter=',')\n",
        "\n",
        "# Assuming the last column is the target variable for both train and test datasets\n",
        "X_train = train_data.iloc[:, :-1]\n",
        "y_train = train_data.iloc[:, -1]\n",
        "X_test = test_data.iloc[:, :-1]\n",
        "y_test = test_data.iloc[:, -1]\n",
        "\n",
        "\n",
        "# Initialize the KNeighborsClassifier\n",
        "classifier = KNeighborsClassifier(n_neighbors=2)\n",
        "\n",
        "# Train the classifier\n",
        "classifier.fit(X_train, y_train)\n",
        "\n",
        "# Predict the labels of the test set\n",
        "y_predicted = classifier.predict(X_test)\n",
        "\n",
        "# Evaluate the model\n",
        "print(confusion_matrix(y_test, y_predicted))\n",
        "print(classification_report(y_test, y_predicted))\n"
      ],
      "metadata": {
        "colab": {
          "base_uri": "https://localhost:8080/"
        },
        "id": "gf9DsNmhh4QH",
        "outputId": "e08f47b7-e77a-4a38-d7e5-0ab420a9c6aa"
      },
      "execution_count": null,
      "outputs": [
        {
          "output_type": "stream",
          "name": "stdout",
          "text": [
            "[[2 0 0 0]\n",
            " [0 2 0 0]\n",
            " [0 0 2 0]\n",
            " [0 0 0 2]]\n",
            "              precision    recall  f1-score   support\n",
            "\n",
            "  Genotype-1       1.00      1.00      1.00         2\n",
            "  Genotype-2       1.00      1.00      1.00         2\n",
            " Genotype-M1       1.00      1.00      1.00         2\n",
            " Genotype-M2       1.00      1.00      1.00         2\n",
            "\n",
            "    accuracy                           1.00         8\n",
            "   macro avg       1.00      1.00      1.00         8\n",
            "weighted avg       1.00      1.00      1.00         8\n",
            "\n"
          ]
        }
      ]
    },
    {
      "cell_type": "code",
      "source": [
        "reason why we get such a perfect results: samll test set"
      ],
      "metadata": {
        "id": "WWqeEPWgj7QS"
      },
      "execution_count": null,
      "outputs": []
    },
    {
      "cell_type": "markdown",
      "source": [
        "# **Logistic Regression**"
      ],
      "metadata": {
        "id": "WFLLzsGFnmt5"
      }
    },
    {
      "cell_type": "code",
      "source": [
        "import pandas as pd\n",
        "from sklearn.linear_model import LogisticRegression\n",
        "from sklearn.metrics import classification_report, confusion_matrix\n",
        "\n",
        "# Load your training and test data\n",
        "train_data_path = \"/content/training_Helicobacter pylori.data\"  # Update this path\n",
        "test_data_path = \"/content/test_Helicobacter pylori.data\"  # Update this path\n",
        "\n",
        "train_data = pd.read_csv(train_data_path, header=None, delimiter=',')\n",
        "test_data = pd.read_csv(test_data_path, header=None, delimiter=',')\n",
        "\n",
        "# Assuming the last column is the target variable for both train and test datasets\n",
        "X_train = train_data.iloc[:, :-1]  # Features from training data\n",
        "y_train = train_data.iloc[:, -1]   # Target variable from training data\n",
        "X_test = test_data.iloc[:, :-1]    # Features from test data\n",
        "y_test = test_data.iloc[:, -1]     # Target variable from test data\n",
        "\n",
        "# Initialize the LogisticRegression\n",
        "classifier = LogisticRegression(max_iter=1000)\n",
        "\n",
        "# Train the classifier\n",
        "classifier.fit(X_train, y_train)\n",
        "\n",
        "# Predict the labels of the test set\n",
        "y_predicted = classifier.predict(X_test)\n",
        "\n",
        "# Evaluate the model\n",
        "print(confusion_matrix(y_test, y_predicted))\n",
        "print(classification_report(y_test, y_predicted))\n"
      ],
      "metadata": {
        "colab": {
          "base_uri": "https://localhost:8080/"
        },
        "id": "lUtSAAxTlB8J",
        "outputId": "1c3c4e00-edab-4cf1-cc87-4b7ed8205a12"
      },
      "execution_count": null,
      "outputs": [
        {
          "output_type": "stream",
          "name": "stdout",
          "text": [
            "[[2 0 0 0]\n",
            " [1 1 0 0]\n",
            " [0 0 2 0]\n",
            " [0 0 0 2]]\n",
            "              precision    recall  f1-score   support\n",
            "\n",
            "  Genotype-1       0.67      1.00      0.80         2\n",
            "  Genotype-2       1.00      0.50      0.67         2\n",
            " Genotype-M1       1.00      1.00      1.00         2\n",
            " Genotype-M2       1.00      1.00      1.00         2\n",
            "\n",
            "    accuracy                           0.88         8\n",
            "   macro avg       0.92      0.88      0.87         8\n",
            "weighted avg       0.92      0.88      0.87         8\n",
            "\n"
          ]
        }
      ]
    },
    {
      "cell_type": "markdown",
      "source": [
        "The model is performing well overall with an accuracy of 88%, but there are specific issues with Genotype-2, where half of the samples were misclassified. This could suggest that features distinguishing Genotype-2 might be similar to those of Genotype-1 or not distinct enough for the model to differentiate consistently."
      ],
      "metadata": {
        "id": "dGJlgxWEmPEJ"
      }
    },
    {
      "cell_type": "markdown",
      "source": [
        "# **Gaussian Naive Bayes classifier**"
      ],
      "metadata": {
        "id": "laEmekjcnyn4"
      }
    },
    {
      "cell_type": "code",
      "source": [
        "import pandas as pd\n",
        "from sklearn.naive_bayes import GaussianNB\n",
        "from sklearn.metrics import classification_report, confusion_matrix\n",
        "\n",
        "# Load your training and test data\n",
        "train_data_path = \"/content/training_Helicobacter pylori.data\"  # Update this path\n",
        "test_data_path = \"/content/test_Helicobacter pylori.data\"  # Update this path\n",
        "\n",
        "train_data = pd.read_csv(train_data_path, header=None, delimiter=',')\n",
        "test_data = pd.read_csv(test_data_path, header=None, delimiter=',')\n",
        "\n",
        "# Assuming the last column is the target variable for both train and test datasets\n",
        "X_train = train_data.iloc[:, :-1]  # Features from training data\n",
        "y_train = train_data.iloc[:, -1]   # Target variable from training data\n",
        "X_test = test_data.iloc[:, :-1]    # Features from test data\n",
        "y_test = test_data.iloc[:, -1]     # Target variable from test data\n",
        "\n",
        "# Since GaussianNB typically handles numeric features well and assuming your data is already numeric\n",
        "# If your data included categorical data, you would need to encode it or use one-hot encoding\n",
        "\n",
        "# Initialize the GaussianNB\n",
        "classifier = GaussianNB()\n",
        "\n",
        "# Train the classifier\n",
        "classifier.fit(X_train, y_train)\n",
        "\n",
        "# Predict the labels of the test set\n",
        "y_predicted = classifier.predict(X_test)\n",
        "\n",
        "# Evaluate the model\n",
        "print(confusion_matrix(y_test, y_predicted))\n",
        "print(classification_report(y_test, y_predicted))\n"
      ],
      "metadata": {
        "colab": {
          "base_uri": "https://localhost:8080/"
        },
        "id": "XAzSCMOkmQXW",
        "outputId": "e8385dd4-8928-48c0-85ac-499c539ca5d2"
      },
      "execution_count": null,
      "outputs": [
        {
          "output_type": "stream",
          "name": "stdout",
          "text": [
            "[[2 0 0 0]\n",
            " [1 1 0 0]\n",
            " [0 0 2 0]\n",
            " [0 0 0 2]]\n",
            "              precision    recall  f1-score   support\n",
            "\n",
            "  Genotype-1       0.67      1.00      0.80         2\n",
            "  Genotype-2       1.00      0.50      0.67         2\n",
            " Genotype-M1       1.00      1.00      1.00         2\n",
            " Genotype-M2       1.00      1.00      1.00         2\n",
            "\n",
            "    accuracy                           0.88         8\n",
            "   macro avg       0.92      0.88      0.87         8\n",
            "weighted avg       0.92      0.88      0.87         8\n",
            "\n"
          ]
        }
      ]
    },
    {
      "cell_type": "markdown",
      "source": [
        "# **Support Vector Machine**"
      ],
      "metadata": {
        "id": "NH25PfoWn_tl"
      }
    },
    {
      "cell_type": "code",
      "source": [
        "import pandas as pd\n",
        "from sklearn import svm\n",
        "from sklearn.metrics import classification_report, confusion_matrix\n",
        "\n",
        "# Load your training and test data\n",
        "train_data_path = \"/content/training_Helicobacter pylori.data\"  # Update this path\n",
        "test_data_path = \"/content/test_Helicobacter pylori.data\"  # Update this path\n",
        "\n",
        "train_data = pd.read_csv(train_data_path, header=None, delimiter=',')\n",
        "test_data = pd.read_csv(test_data_path, header=None, delimiter=',')\n",
        "\n",
        "# Assuming the last column is the target variable for both train and test datasets\n",
        "X_train = train_data.iloc[:, :-1]  # Features from training data\n",
        "y_train = train_data.iloc[:, -1]   # Target variable from training data\n",
        "X_test = test_data.iloc[:, :-1]    # Features from test data\n",
        "y_test = test_data.iloc[:, -1]     # Target variable from test data\n",
        "\n",
        "# Initialize the SVM classifier\n",
        "classifier = svm.SVC(kernel='poly')  # Using polynomial kernel\n",
        "\n",
        "# Train the classifier\n",
        "classifier.fit(X_train, y_train)\n",
        "\n",
        "# Predict the labels of the test set\n",
        "y_predicted = classifier.predict(X_test)\n",
        "\n",
        "# Evaluate the model\n",
        "print(confusion_matrix(y_test, y_predicted))\n",
        "print(classification_report(y_test, y_predicted))\n"
      ],
      "metadata": {
        "colab": {
          "base_uri": "https://localhost:8080/"
        },
        "id": "L03V81EYoH0F",
        "outputId": "69bd4a8b-0360-4455-b506-de2ae7744ef3"
      },
      "execution_count": null,
      "outputs": [
        {
          "output_type": "stream",
          "name": "stdout",
          "text": [
            "[[2 0 0 0]\n",
            " [1 1 0 0]\n",
            " [0 0 2 0]\n",
            " [0 0 0 2]]\n",
            "              precision    recall  f1-score   support\n",
            "\n",
            "  Genotype-1       0.67      1.00      0.80         2\n",
            "  Genotype-2       1.00      0.50      0.67         2\n",
            " Genotype-M1       1.00      1.00      1.00         2\n",
            " Genotype-M2       1.00      1.00      1.00         2\n",
            "\n",
            "    accuracy                           0.88         8\n",
            "   macro avg       0.92      0.88      0.87         8\n",
            "weighted avg       0.92      0.88      0.87         8\n",
            "\n"
          ]
        }
      ]
    },
    {
      "cell_type": "code",
      "source": [
        "from sklearn.model_selection import GridSearchCV\n",
        "\n",
        "parameters = {\n",
        "    'C': [0.1, 1, 10],\n",
        "    'gamma': ['scale', 'auto', 0.1, 1],\n",
        "    'kernel': ['rbf', 'poly', 'sigmoid']\n",
        "}\n",
        "\n",
        "grid_search = GridSearchCV(svm.SVC(), parameters, cv=5)\n",
        "grid_search.fit(X_train, y_train)\n",
        "print(\"Best parameters:\", grid_search.best_params_)\n",
        "print(\"Best cross-validation score: {:.2f}\".format(grid_search.best_score_))\n",
        "\n",
        "# Evaluate with the best parameters\n",
        "best_model = grid_search.best_estimator_\n",
        "y_predicted = best_model.predict(X_test)\n",
        "print(confusion_matrix(y_test, y_predicted))\n",
        "print(classification_report(y_test, y_predicted))\n"
      ],
      "metadata": {
        "colab": {
          "base_uri": "https://localhost:8080/"
        },
        "id": "s34ECr0vokQz",
        "outputId": "023908bb-edd3-4d08-f9d5-1fa54f58fa10"
      },
      "execution_count": null,
      "outputs": [
        {
          "output_type": "stream",
          "name": "stdout",
          "text": [
            "Best parameters: {'C': 0.1, 'gamma': 'scale', 'kernel': 'poly'}\n",
            "Best cross-validation score: 1.00\n",
            "[[2 0 0 0]\n",
            " [1 1 0 0]\n",
            " [0 0 2 0]\n",
            " [0 0 0 2]]\n",
            "              precision    recall  f1-score   support\n",
            "\n",
            "  Genotype-1       0.67      1.00      0.80         2\n",
            "  Genotype-2       1.00      0.50      0.67         2\n",
            " Genotype-M1       1.00      1.00      1.00         2\n",
            " Genotype-M2       1.00      1.00      1.00         2\n",
            "\n",
            "    accuracy                           0.88         8\n",
            "   macro avg       0.92      0.88      0.87         8\n",
            "weighted avg       0.92      0.88      0.87         8\n",
            "\n"
          ]
        }
      ]
    },
    {
      "cell_type": "markdown",
      "source": [
        "# **Multi Layered Perceptron (MLP)**"
      ],
      "metadata": {
        "id": "YLSLrVESoz2T"
      }
    },
    {
      "cell_type": "code",
      "source": [
        "import pandas as pd\n",
        "import numpy as np\n",
        "from sklearn.preprocessing import LabelEncoder\n",
        "from keras.utils import to_categorical\n",
        "from keras.models import Sequential\n",
        "from keras.layers import Dense\n",
        "from keras.optimizers import Adam\n",
        "from sklearn.model_selection import train_test_split"
      ],
      "metadata": {
        "id": "0Oz9jrZ8UJIl"
      },
      "execution_count": null,
      "outputs": []
    },
    {
      "cell_type": "code",
      "source": [
        "##ORIGINAL DATASET\n",
        "\n",
        "# Load the data\n",
        "train_df = pd.read_csv('training_Helicobacter pylori.data', header=None)\n",
        "test_df = pd.read_csv('test_Helicobacter pylori.data', header=None)\n",
        "\n",
        "# Separate features and target labels\n",
        "X_train = train_df.iloc[:, :-1].values  # Features (nucleotide sequences)\n",
        "y_train = train_df.iloc[:, -1].values   # Target labels (genotype)\n",
        "\n",
        "X_test = test_df.iloc[:, :-1].values    # Features (nucleotide sequences)\n",
        "y_test = test_df.iloc[:, -1].values     # Target labels (genotype)\n",
        "\n",
        "# Encode target labels\n",
        "label_encoder = LabelEncoder()\n",
        "y_train_encoded = label_encoder.fit_transform(y_train)\n",
        "y_train_categorical = to_categorical(y_train_encoded)\n",
        "y_test_encoded = label_encoder.transform(y_test)\n",
        "y_test_categorical = to_categorical(y_test_encoded)\n",
        "\n",
        "# Define the model architecture\n",
        "model = Sequential()\n",
        "model.add(Dense(200, activation='relu', input_shape=(X_train.shape[1],)))\n",
        "model.add(Dense(201, activation='relu'))\n",
        "model.add(Dense(4, activation='softmax'))\n",
        "\n",
        "# Compile the model\n",
        "adam_optimizer = Adam(learning_rate=0.001)\n",
        "model.compile(optimizer=adam_optimizer, loss='categorical_crossentropy', metrics=['accuracy'])\n",
        "\n",
        "# Train the model\n",
        "model.fit(X_train, y_train_categorical, epochs=500, batch_size=16, validation_split=0.2, verbose=1)\n",
        "\n",
        "# Predictions on the test set\n",
        "y_pred = model.predict(X_test)\n",
        "\n",
        "# Calculate total squared error loss\n",
        "total_squared_error = np.sum((y_test_categorical - y_pred)**2)\n",
        "print(\"Total Squared Error Loss:\", total_squared_error)\n",
        "\n",
        "# Evaluate the model on the test set\n",
        "test_loss, test_accuracy = model.evaluate(X_test, y_test_categorical)\n",
        "print(\"Test Loss:\", test_loss)\n",
        "print(\"Test Accuracy:\", test_accuracy)\n"
      ],
      "metadata": {
        "id": "mpnPEI7uUQSq"
      },
      "execution_count": null,
      "outputs": []
    },
    {
      "cell_type": "code",
      "source": [
        "#COMBINED DATASET\n",
        "\n",
        "# Load the data\n",
        "data = pd.read_csv('combined_Helicobacter_pylori_data.csv', header=None)\n",
        "\n",
        "# Separate features and target labels\n",
        "X = data.iloc[:, :-1].values  # Features (nucleotide sequences)\n",
        "y = data.iloc[:, -1].values   # Target labels (genotype)\n",
        "\n",
        "\n",
        "# Encode target labels\n",
        "label_encoder = LabelEncoder()\n",
        "y_encoded = label_encoder.fit_transform(y)\n",
        "y_categorical = to_categorical(y_encoded)\n",
        "\n",
        "# Define the model\n",
        "model = Sequential()\n",
        "model.add(Dense(200, activation='tanh', input_shape=(X.shape[1],)))\n",
        "model.add(Dense(201, activation='tanh'))\n",
        "model.add(Dense(4, activation='softmax'))\n",
        "\n",
        "#learning_rate = 0.001\n",
        "#adam_optimizer = Adam(lr=learning_rate)\n",
        "\n",
        "model.compile(optimizer='adam', loss='categorical_crossentropy', metrics=['accuracy'])\n",
        "\n",
        "# Train-test split\n",
        "X_train, X_test, y_train, y_test = train_test_split(X, y_categorical, test_size=0.3, random_state=42)\n",
        "\n",
        "# Train the model\n",
        "model.fit(X_train, y_train, epochs=500, batch_size=32, validation_split=0.2)\n",
        "\n",
        "# Evaluate the model\n",
        "test_loss, test_accuracy = model.evaluate(X_test, y_test)\n",
        "print(\"Test Accuracy:\", test_accuracy)"
      ],
      "metadata": {
        "id": "RQNSKKsXUb0l"
      },
      "execution_count": null,
      "outputs": []
    },
    {
      "cell_type": "markdown",
      "source": [
        "# **Recurrent Neural Networks (RNNs)**\n"
      ],
      "metadata": {
        "id": "XRdlbE7FuLzY"
      }
    },
    {
      "cell_type": "code",
      "source": [
        "import tensorflow as tf\n",
        "from tensorflow.keras.models import Sequential\n",
        "from tensorflow.keras.layers import SimpleRNN, Dense, Dropout, Embedding\n",
        "from sklearn.preprocessing import LabelEncoder, StandardScaler\n",
        "from sklearn.model_selection import train_test_split\n",
        "import pandas as pd\n",
        "import numpy as np\n"
      ],
      "metadata": {
        "id": "oTFW160FuLM8"
      },
      "execution_count": null,
      "outputs": []
    },
    {
      "cell_type": "code",
      "source": [
        "# Load data\n",
        "train_data_path = \"/content/training_Helicobacter pylori.data\"\n",
        "test_data_path = \"/content/test_Helicobacter pylori.data\"\n",
        "\n",
        "train_data = pd.read_csv(train_data_path, header=None, delimiter=',')\n",
        "test_data = pd.read_csv(test_data_path, header=None, delimiter=',')\n",
        "\n",
        "# Split features and target\n",
        "X_train = train_data.iloc[:, :-1].values\n",
        "y_train = train_data.iloc[:, -1].values\n",
        "X_test = test_data.iloc[:, :-1].values\n",
        "y_test = test_data.iloc[:, -1].values\n",
        "\n",
        "# Encode categorical target variable\n",
        "encoder = LabelEncoder()\n",
        "y_train_encoded = encoder.fit_transform(y_train)\n",
        "y_test_encoded = encoder.transform(y_test)\n",
        "\n",
        "# Optionally, scale the features if needed\n",
        "from sklearn.preprocessing import StandardScaler\n",
        "scaler = StandardScaler()\n",
        "X_train_scaled = scaler.fit_transform(X_train)\n",
        "X_test_scaled = scaler.transform(X_test)\n",
        "\n",
        "#Reshape input to be [samples, time steps, features]\n",
        "X_train_scaled = np.reshape(X_train_scaled, (X_train_scaled.shape[0], 1, X_train_scaled.shape[1]))\n",
        "X_test_scaled = np.reshape(X_test_scaled, (X_test_scaled.shape[0], 1, X_test_scaled.shape[1]))\n"
      ],
      "metadata": {
        "id": "TXSbFgvAueMg"
      },
      "execution_count": null,
      "outputs": []
    },
    {
      "cell_type": "code",
      "source": [
        "# Define the model\n",
        "model = Sequential([\n",
        "    SimpleRNN(50, input_shape=(X_train_scaled.shape[1], X_train_scaled.shape[2]), return_sequences=True),\n",
        "    Dropout(0.2),\n",
        "    SimpleRNN(50, return_sequences=False),\n",
        "    Dropout(0.2),\n",
        "    Dense(len(np.unique(y_train_encoded)), activation='softmax')\n",
        "])\n",
        "\n",
        "# Compile the model\n",
        "model.compile(optimizer='adam', loss='sparse_categorical_crossentropy', metrics=['accuracy'])\n",
        "\n",
        "# Model summary\n",
        "model.summary()\n"
      ],
      "metadata": {
        "colab": {
          "base_uri": "https://localhost:8080/"
        },
        "id": "9SDnD1UqvGIj",
        "outputId": "c5594b97-118e-4e16-f6e6-873727abdb8d"
      },
      "execution_count": null,
      "outputs": [
        {
          "output_type": "stream",
          "name": "stdout",
          "text": [
            "Model: \"sequential\"\n",
            "_________________________________________________________________\n",
            " Layer (type)                Output Shape              Param #   \n",
            "=================================================================\n",
            " simple_rnn (SimpleRNN)      (None, 1, 50)             12550     \n",
            "                                                                 \n",
            " dropout (Dropout)           (None, 1, 50)             0         \n",
            "                                                                 \n",
            " simple_rnn_1 (SimpleRNN)    (None, 50)                5050      \n",
            "                                                                 \n",
            " dropout_1 (Dropout)         (None, 50)                0         \n",
            "                                                                 \n",
            " dense (Dense)               (None, 4)                 204       \n",
            "                                                                 \n",
            "=================================================================\n",
            "Total params: 17804 (69.55 KB)\n",
            "Trainable params: 17804 (69.55 KB)\n",
            "Non-trainable params: 0 (0.00 Byte)\n",
            "_________________________________________________________________\n"
          ]
        }
      ]
    },
    {
      "cell_type": "code",
      "source": [
        "# Train the model\n",
        "history = model.fit(X_train_scaled, y_train_encoded, epochs=100, batch_size=18, validation_data=(X_test_scaled, y_test_encoded))\n"
      ],
      "metadata": {
        "colab": {
          "base_uri": "https://localhost:8080/"
        },
        "id": "V0IbskJ6vJi7",
        "outputId": "0af898a0-3389-4539-cdcc-9125e968c9c3"
      },
      "execution_count": null,
      "outputs": [
        {
          "output_type": "stream",
          "name": "stdout",
          "text": [
            "Epoch 1/100\n",
            "4/4 [==============================] - 8s 186ms/step - loss: 1.4223 - accuracy: 0.3651 - val_loss: 1.1364 - val_accuracy: 0.6250\n",
            "Epoch 2/100\n",
            "4/4 [==============================] - 0s 17ms/step - loss: 0.6744 - accuracy: 0.8254 - val_loss: 0.8998 - val_accuracy: 0.6250\n",
            "Epoch 3/100\n",
            "4/4 [==============================] - 0s 24ms/step - loss: 0.3067 - accuracy: 0.9841 - val_loss: 0.8249 - val_accuracy: 0.6250\n",
            "Epoch 4/100\n",
            "4/4 [==============================] - 0s 26ms/step - loss: 0.1743 - accuracy: 1.0000 - val_loss: 0.8040 - val_accuracy: 0.6250\n",
            "Epoch 5/100\n",
            "4/4 [==============================] - 0s 24ms/step - loss: 0.1072 - accuracy: 1.0000 - val_loss: 0.8027 - val_accuracy: 0.6250\n",
            "Epoch 6/100\n",
            "4/4 [==============================] - 0s 22ms/step - loss: 0.0939 - accuracy: 1.0000 - val_loss: 0.8079 - val_accuracy: 0.6250\n",
            "Epoch 7/100\n",
            "4/4 [==============================] - 0s 24ms/step - loss: 0.0687 - accuracy: 1.0000 - val_loss: 0.8155 - val_accuracy: 0.6250\n",
            "Epoch 8/100\n",
            "4/4 [==============================] - 0s 23ms/step - loss: 0.0511 - accuracy: 1.0000 - val_loss: 0.8236 - val_accuracy: 0.6250\n",
            "Epoch 9/100\n",
            "4/4 [==============================] - 0s 24ms/step - loss: 0.0402 - accuracy: 1.0000 - val_loss: 0.8329 - val_accuracy: 0.6250\n",
            "Epoch 10/100\n",
            "4/4 [==============================] - 0s 21ms/step - loss: 0.0266 - accuracy: 1.0000 - val_loss: 0.8401 - val_accuracy: 0.6250\n",
            "Epoch 11/100\n",
            "4/4 [==============================] - 0s 23ms/step - loss: 0.0231 - accuracy: 1.0000 - val_loss: 0.8460 - val_accuracy: 0.6250\n",
            "Epoch 12/100\n",
            "4/4 [==============================] - 0s 14ms/step - loss: 0.0190 - accuracy: 1.0000 - val_loss: 0.8509 - val_accuracy: 0.6250\n",
            "Epoch 13/100\n",
            "4/4 [==============================] - 0s 16ms/step - loss: 0.0256 - accuracy: 1.0000 - val_loss: 0.8553 - val_accuracy: 0.6250\n",
            "Epoch 14/100\n",
            "4/4 [==============================] - 0s 16ms/step - loss: 0.0200 - accuracy: 1.0000 - val_loss: 0.8592 - val_accuracy: 0.6250\n",
            "Epoch 15/100\n",
            "4/4 [==============================] - 0s 21ms/step - loss: 0.0195 - accuracy: 1.0000 - val_loss: 0.8635 - val_accuracy: 0.6250\n",
            "Epoch 16/100\n",
            "4/4 [==============================] - 0s 15ms/step - loss: 0.0159 - accuracy: 1.0000 - val_loss: 0.8672 - val_accuracy: 0.6250\n",
            "Epoch 17/100\n",
            "4/4 [==============================] - 0s 21ms/step - loss: 0.0162 - accuracy: 1.0000 - val_loss: 0.8706 - val_accuracy: 0.6250\n",
            "Epoch 18/100\n",
            "4/4 [==============================] - 0s 24ms/step - loss: 0.0195 - accuracy: 1.0000 - val_loss: 0.8733 - val_accuracy: 0.6250\n",
            "Epoch 19/100\n",
            "4/4 [==============================] - 0s 21ms/step - loss: 0.0148 - accuracy: 1.0000 - val_loss: 0.8757 - val_accuracy: 0.6250\n",
            "Epoch 20/100\n",
            "4/4 [==============================] - 0s 20ms/step - loss: 0.0126 - accuracy: 1.0000 - val_loss: 0.8776 - val_accuracy: 0.6250\n",
            "Epoch 21/100\n",
            "4/4 [==============================] - 0s 14ms/step - loss: 0.0107 - accuracy: 1.0000 - val_loss: 0.8793 - val_accuracy: 0.6250\n",
            "Epoch 22/100\n",
            "4/4 [==============================] - 0s 16ms/step - loss: 0.0111 - accuracy: 1.0000 - val_loss: 0.8801 - val_accuracy: 0.6250\n",
            "Epoch 23/100\n",
            "4/4 [==============================] - 0s 15ms/step - loss: 0.0098 - accuracy: 1.0000 - val_loss: 0.8811 - val_accuracy: 0.6250\n",
            "Epoch 24/100\n",
            "4/4 [==============================] - 0s 22ms/step - loss: 0.0095 - accuracy: 1.0000 - val_loss: 0.8822 - val_accuracy: 0.6250\n",
            "Epoch 25/100\n",
            "4/4 [==============================] - 0s 14ms/step - loss: 0.0113 - accuracy: 1.0000 - val_loss: 0.8838 - val_accuracy: 0.6250\n",
            "Epoch 26/100\n",
            "4/4 [==============================] - 0s 14ms/step - loss: 0.0095 - accuracy: 1.0000 - val_loss: 0.8855 - val_accuracy: 0.6250\n",
            "Epoch 27/100\n",
            "4/4 [==============================] - 0s 16ms/step - loss: 0.0115 - accuracy: 1.0000 - val_loss: 0.8878 - val_accuracy: 0.6250\n",
            "Epoch 28/100\n",
            "4/4 [==============================] - 0s 22ms/step - loss: 0.0080 - accuracy: 1.0000 - val_loss: 0.8901 - val_accuracy: 0.6250\n",
            "Epoch 29/100\n",
            "4/4 [==============================] - 0s 14ms/step - loss: 0.0091 - accuracy: 1.0000 - val_loss: 0.8921 - val_accuracy: 0.6250\n",
            "Epoch 30/100\n",
            "4/4 [==============================] - 0s 15ms/step - loss: 0.0106 - accuracy: 1.0000 - val_loss: 0.8937 - val_accuracy: 0.6250\n",
            "Epoch 31/100\n",
            "4/4 [==============================] - 0s 15ms/step - loss: 0.0099 - accuracy: 1.0000 - val_loss: 0.8953 - val_accuracy: 0.6250\n",
            "Epoch 32/100\n",
            "4/4 [==============================] - 0s 16ms/step - loss: 0.0093 - accuracy: 1.0000 - val_loss: 0.8962 - val_accuracy: 0.6250\n",
            "Epoch 33/100\n",
            "4/4 [==============================] - 0s 20ms/step - loss: 0.0067 - accuracy: 1.0000 - val_loss: 0.8970 - val_accuracy: 0.6250\n",
            "Epoch 34/100\n",
            "4/4 [==============================] - 0s 14ms/step - loss: 0.0059 - accuracy: 1.0000 - val_loss: 0.8980 - val_accuracy: 0.6250\n",
            "Epoch 35/100\n",
            "4/4 [==============================] - 0s 14ms/step - loss: 0.0063 - accuracy: 1.0000 - val_loss: 0.8995 - val_accuracy: 0.6250\n",
            "Epoch 36/100\n",
            "4/4 [==============================] - 0s 15ms/step - loss: 0.0070 - accuracy: 1.0000 - val_loss: 0.9007 - val_accuracy: 0.6250\n",
            "Epoch 37/100\n",
            "4/4 [==============================] - 0s 20ms/step - loss: 0.0076 - accuracy: 1.0000 - val_loss: 0.9015 - val_accuracy: 0.6250\n",
            "Epoch 38/100\n",
            "4/4 [==============================] - 0s 16ms/step - loss: 0.0062 - accuracy: 1.0000 - val_loss: 0.9023 - val_accuracy: 0.6250\n",
            "Epoch 39/100\n",
            "4/4 [==============================] - 0s 19ms/step - loss: 0.0052 - accuracy: 1.0000 - val_loss: 0.9033 - val_accuracy: 0.6250\n",
            "Epoch 40/100\n",
            "4/4 [==============================] - 0s 14ms/step - loss: 0.0054 - accuracy: 1.0000 - val_loss: 0.9044 - val_accuracy: 0.6250\n",
            "Epoch 41/100\n",
            "4/4 [==============================] - 0s 16ms/step - loss: 0.0049 - accuracy: 1.0000 - val_loss: 0.9054 - val_accuracy: 0.6250\n",
            "Epoch 42/100\n",
            "4/4 [==============================] - 0s 17ms/step - loss: 0.0050 - accuracy: 1.0000 - val_loss: 0.9062 - val_accuracy: 0.6250\n",
            "Epoch 43/100\n",
            "4/4 [==============================] - 0s 20ms/step - loss: 0.0046 - accuracy: 1.0000 - val_loss: 0.9072 - val_accuracy: 0.6250\n",
            "Epoch 44/100\n",
            "4/4 [==============================] - 0s 23ms/step - loss: 0.0047 - accuracy: 1.0000 - val_loss: 0.9080 - val_accuracy: 0.6250\n",
            "Epoch 45/100\n",
            "4/4 [==============================] - 0s 27ms/step - loss: 0.0055 - accuracy: 1.0000 - val_loss: 0.9086 - val_accuracy: 0.6250\n",
            "Epoch 46/100\n",
            "4/4 [==============================] - 0s 23ms/step - loss: 0.0057 - accuracy: 1.0000 - val_loss: 0.9092 - val_accuracy: 0.6250\n",
            "Epoch 47/100\n",
            "4/4 [==============================] - 0s 20ms/step - loss: 0.0052 - accuracy: 1.0000 - val_loss: 0.9098 - val_accuracy: 0.6250\n",
            "Epoch 48/100\n",
            "4/4 [==============================] - 0s 29ms/step - loss: 0.0066 - accuracy: 1.0000 - val_loss: 0.9101 - val_accuracy: 0.6250\n",
            "Epoch 49/100\n",
            "4/4 [==============================] - 0s 21ms/step - loss: 0.0034 - accuracy: 1.0000 - val_loss: 0.9104 - val_accuracy: 0.6250\n",
            "Epoch 50/100\n",
            "4/4 [==============================] - 0s 22ms/step - loss: 0.0058 - accuracy: 1.0000 - val_loss: 0.9114 - val_accuracy: 0.6250\n",
            "Epoch 51/100\n",
            "4/4 [==============================] - 0s 23ms/step - loss: 0.0037 - accuracy: 1.0000 - val_loss: 0.9121 - val_accuracy: 0.6250\n",
            "Epoch 52/100\n",
            "4/4 [==============================] - 0s 24ms/step - loss: 0.0051 - accuracy: 1.0000 - val_loss: 0.9129 - val_accuracy: 0.6250\n",
            "Epoch 53/100\n",
            "4/4 [==============================] - 0s 25ms/step - loss: 0.0038 - accuracy: 1.0000 - val_loss: 0.9136 - val_accuracy: 0.6250\n",
            "Epoch 54/100\n",
            "4/4 [==============================] - 0s 16ms/step - loss: 0.0050 - accuracy: 1.0000 - val_loss: 0.9146 - val_accuracy: 0.6250\n",
            "Epoch 55/100\n",
            "4/4 [==============================] - 0s 17ms/step - loss: 0.0033 - accuracy: 1.0000 - val_loss: 0.9157 - val_accuracy: 0.6250\n",
            "Epoch 56/100\n",
            "4/4 [==============================] - 0s 13ms/step - loss: 0.0051 - accuracy: 1.0000 - val_loss: 0.9172 - val_accuracy: 0.6250\n",
            "Epoch 57/100\n",
            "4/4 [==============================] - 0s 14ms/step - loss: 0.0040 - accuracy: 1.0000 - val_loss: 0.9185 - val_accuracy: 0.6250\n",
            "Epoch 58/100\n",
            "4/4 [==============================] - 0s 14ms/step - loss: 0.0033 - accuracy: 1.0000 - val_loss: 0.9197 - val_accuracy: 0.6250\n",
            "Epoch 59/100\n",
            "4/4 [==============================] - 0s 15ms/step - loss: 0.0035 - accuracy: 1.0000 - val_loss: 0.9208 - val_accuracy: 0.6250\n",
            "Epoch 60/100\n",
            "4/4 [==============================] - 0s 20ms/step - loss: 0.0038 - accuracy: 1.0000 - val_loss: 0.9218 - val_accuracy: 0.6250\n",
            "Epoch 61/100\n",
            "4/4 [==============================] - 0s 15ms/step - loss: 0.0035 - accuracy: 1.0000 - val_loss: 0.9227 - val_accuracy: 0.6250\n",
            "Epoch 62/100\n",
            "4/4 [==============================] - 0s 23ms/step - loss: 0.0063 - accuracy: 1.0000 - val_loss: 0.9236 - val_accuracy: 0.6250\n",
            "Epoch 63/100\n",
            "4/4 [==============================] - 0s 16ms/step - loss: 0.0030 - accuracy: 1.0000 - val_loss: 0.9242 - val_accuracy: 0.6250\n",
            "Epoch 64/100\n",
            "4/4 [==============================] - 0s 15ms/step - loss: 0.0043 - accuracy: 1.0000 - val_loss: 0.9248 - val_accuracy: 0.6250\n",
            "Epoch 65/100\n",
            "4/4 [==============================] - 0s 14ms/step - loss: 0.0027 - accuracy: 1.0000 - val_loss: 0.9254 - val_accuracy: 0.6250\n",
            "Epoch 66/100\n",
            "4/4 [==============================] - 0s 14ms/step - loss: 0.0031 - accuracy: 1.0000 - val_loss: 0.9261 - val_accuracy: 0.6250\n",
            "Epoch 67/100\n",
            "4/4 [==============================] - 0s 16ms/step - loss: 0.0030 - accuracy: 1.0000 - val_loss: 0.9269 - val_accuracy: 0.6250\n",
            "Epoch 68/100\n",
            "4/4 [==============================] - 0s 16ms/step - loss: 0.0034 - accuracy: 1.0000 - val_loss: 0.9276 - val_accuracy: 0.6250\n",
            "Epoch 69/100\n",
            "4/4 [==============================] - 0s 20ms/step - loss: 0.0024 - accuracy: 1.0000 - val_loss: 0.9280 - val_accuracy: 0.6250\n",
            "Epoch 70/100\n",
            "4/4 [==============================] - 0s 14ms/step - loss: 0.0025 - accuracy: 1.0000 - val_loss: 0.9286 - val_accuracy: 0.6250\n",
            "Epoch 71/100\n",
            "4/4 [==============================] - 0s 20ms/step - loss: 0.0025 - accuracy: 1.0000 - val_loss: 0.9291 - val_accuracy: 0.6250\n",
            "Epoch 72/100\n",
            "4/4 [==============================] - 0s 21ms/step - loss: 0.0027 - accuracy: 1.0000 - val_loss: 0.9294 - val_accuracy: 0.6250\n",
            "Epoch 73/100\n",
            "4/4 [==============================] - 0s 14ms/step - loss: 0.0025 - accuracy: 1.0000 - val_loss: 0.9297 - val_accuracy: 0.6250\n",
            "Epoch 74/100\n",
            "4/4 [==============================] - 0s 15ms/step - loss: 0.0026 - accuracy: 1.0000 - val_loss: 0.9299 - val_accuracy: 0.6250\n",
            "Epoch 75/100\n",
            "4/4 [==============================] - 0s 14ms/step - loss: 0.0019 - accuracy: 1.0000 - val_loss: 0.9301 - val_accuracy: 0.6250\n",
            "Epoch 76/100\n",
            "4/4 [==============================] - 0s 14ms/step - loss: 0.0030 - accuracy: 1.0000 - val_loss: 0.9305 - val_accuracy: 0.6250\n",
            "Epoch 77/100\n",
            "4/4 [==============================] - 0s 23ms/step - loss: 0.0026 - accuracy: 1.0000 - val_loss: 0.9311 - val_accuracy: 0.6250\n",
            "Epoch 78/100\n",
            "4/4 [==============================] - 0s 15ms/step - loss: 0.0022 - accuracy: 1.0000 - val_loss: 0.9321 - val_accuracy: 0.6250\n",
            "Epoch 79/100\n",
            "4/4 [==============================] - 0s 16ms/step - loss: 0.0027 - accuracy: 1.0000 - val_loss: 0.9330 - val_accuracy: 0.6250\n",
            "Epoch 80/100\n",
            "4/4 [==============================] - 0s 15ms/step - loss: 0.0030 - accuracy: 1.0000 - val_loss: 0.9340 - val_accuracy: 0.6250\n",
            "Epoch 81/100\n",
            "4/4 [==============================] - 0s 16ms/step - loss: 0.0024 - accuracy: 1.0000 - val_loss: 0.9352 - val_accuracy: 0.6250\n",
            "Epoch 82/100\n",
            "4/4 [==============================] - 0s 14ms/step - loss: 0.0031 - accuracy: 1.0000 - val_loss: 0.9365 - val_accuracy: 0.6250\n",
            "Epoch 83/100\n",
            "4/4 [==============================] - 0s 14ms/step - loss: 0.0026 - accuracy: 1.0000 - val_loss: 0.9376 - val_accuracy: 0.6250\n",
            "Epoch 84/100\n",
            "4/4 [==============================] - 0s 21ms/step - loss: 0.0023 - accuracy: 1.0000 - val_loss: 0.9389 - val_accuracy: 0.6250\n",
            "Epoch 85/100\n",
            "4/4 [==============================] - 0s 22ms/step - loss: 0.0019 - accuracy: 1.0000 - val_loss: 0.9399 - val_accuracy: 0.6250\n",
            "Epoch 86/100\n",
            "4/4 [==============================] - 0s 14ms/step - loss: 0.0021 - accuracy: 1.0000 - val_loss: 0.9409 - val_accuracy: 0.6250\n",
            "Epoch 87/100\n",
            "4/4 [==============================] - 0s 16ms/step - loss: 0.0030 - accuracy: 1.0000 - val_loss: 0.9421 - val_accuracy: 0.6250\n",
            "Epoch 88/100\n",
            "4/4 [==============================] - 0s 18ms/step - loss: 0.0023 - accuracy: 1.0000 - val_loss: 0.9430 - val_accuracy: 0.6250\n",
            "Epoch 89/100\n",
            "4/4 [==============================] - 0s 22ms/step - loss: 0.0018 - accuracy: 1.0000 - val_loss: 0.9437 - val_accuracy: 0.6250\n",
            "Epoch 90/100\n",
            "4/4 [==============================] - 0s 16ms/step - loss: 0.0019 - accuracy: 1.0000 - val_loss: 0.9442 - val_accuracy: 0.6250\n",
            "Epoch 91/100\n",
            "4/4 [==============================] - 0s 17ms/step - loss: 0.0024 - accuracy: 1.0000 - val_loss: 0.9445 - val_accuracy: 0.6250\n",
            "Epoch 92/100\n",
            "4/4 [==============================] - 0s 23ms/step - loss: 0.0016 - accuracy: 1.0000 - val_loss: 0.9447 - val_accuracy: 0.6250\n",
            "Epoch 93/100\n",
            "4/4 [==============================] - 0s 20ms/step - loss: 0.0015 - accuracy: 1.0000 - val_loss: 0.9451 - val_accuracy: 0.6250\n",
            "Epoch 94/100\n",
            "4/4 [==============================] - 0s 27ms/step - loss: 0.0021 - accuracy: 1.0000 - val_loss: 0.9456 - val_accuracy: 0.6250\n",
            "Epoch 95/100\n",
            "4/4 [==============================] - 0s 19ms/step - loss: 0.0018 - accuracy: 1.0000 - val_loss: 0.9461 - val_accuracy: 0.6250\n",
            "Epoch 96/100\n",
            "4/4 [==============================] - 0s 23ms/step - loss: 0.0017 - accuracy: 1.0000 - val_loss: 0.9465 - val_accuracy: 0.6250\n",
            "Epoch 97/100\n",
            "4/4 [==============================] - 0s 23ms/step - loss: 0.0017 - accuracy: 1.0000 - val_loss: 0.9470 - val_accuracy: 0.6250\n",
            "Epoch 98/100\n",
            "4/4 [==============================] - 0s 23ms/step - loss: 0.0016 - accuracy: 1.0000 - val_loss: 0.9476 - val_accuracy: 0.6250\n",
            "Epoch 99/100\n",
            "4/4 [==============================] - 0s 23ms/step - loss: 0.0017 - accuracy: 1.0000 - val_loss: 0.9483 - val_accuracy: 0.6250\n",
            "Epoch 100/100\n",
            "4/4 [==============================] - 0s 28ms/step - loss: 0.0019 - accuracy: 1.0000 - val_loss: 0.9488 - val_accuracy: 0.6250\n"
          ]
        }
      ]
    },
    {
      "cell_type": "code",
      "source": [
        "# Evaluate the model\n",
        "loss, accuracy = model.evaluate(X_test_scaled, y_test_encoded)\n",
        "print(\"Test Accuracy:\", accuracy)\n"
      ],
      "metadata": {
        "colab": {
          "base_uri": "https://localhost:8080/"
        },
        "id": "4hgNHPoevNDF",
        "outputId": "82da4931-24c9-45da-b77c-16abe8011fd4"
      },
      "execution_count": null,
      "outputs": [
        {
          "output_type": "stream",
          "name": "stdout",
          "text": [
            "1/1 [==============================] - 0s 35ms/step - loss: 0.9488 - accuracy: 0.6250\n",
            "Test Accuracy: 0.625\n"
          ]
        }
      ]
    },
    {
      "cell_type": "code",
      "source": [
        "# Predict on test data\n",
        "predictions = model.predict(X_test_scaled)\n",
        "predicted_classes = np.argmax(predictions, axis=1)\n",
        "\n",
        "# Print classification report\n",
        "from sklearn.metrics import classification_report\n",
        "print(classification_report(y_test_encoded, predicted_classes))\n"
      ],
      "metadata": {
        "colab": {
          "base_uri": "https://localhost:8080/"
        },
        "id": "oAHMCgeavOiI",
        "outputId": "dffacf10-978c-4f47-f560-d2fce299b0d5"
      },
      "execution_count": null,
      "outputs": [
        {
          "output_type": "stream",
          "name": "stdout",
          "text": [
            "1/1 [==============================] - 0s 323ms/step\n",
            "              precision    recall  f1-score   support\n",
            "\n",
            "           0       0.00      0.00      0.00         2\n",
            "           1       1.00      0.50      0.67         2\n",
            "           2       0.50      1.00      0.67         2\n",
            "           3       1.00      1.00      1.00         2\n",
            "\n",
            "    accuracy                           0.62         8\n",
            "   macro avg       0.62      0.62      0.58         8\n",
            "weighted avg       0.62      0.62      0.58         8\n",
            "\n"
          ]
        }
      ]
    },
    {
      "cell_type": "markdown",
      "source": [
        "Reasons for Poor Results:\n",
        "- Insufficient Training Data: RNNs and other deep learning models generally require large amounts of data to perform well. If the dataset is too small, the model may not be able to learn effectively.\n",
        "- Inappropriate Model Complexity: If the model is too complex relative to the amount of data available, it may overfit the training data, failing to generalize well to unseen data.\n",
        "- Suboptimal Hyperparameters:\n",
        " - Number of Layers and Neurons: Too many or too few neurons or layers can lead to underfitting or overfitting.\n",
        " - Learning Rate: If set too high or too low, it can lead to poor convergence.\n",
        "- Feature Representation: The way features are encoded and prepared might not be optimal for capturing the relationships necessary for classification.\n",
        "- Sequence Length: In RNNs, the length of the input sequences can significantly impact performance. Incorrect sequence processing might hinder learning."
      ],
      "metadata": {
        "id": "ZcVrJuzfwsMu"
      }
    },
    {
      "cell_type": "markdown",
      "source": [
        "# **Recurrent Neural Networks (RNNs) with 70/30 split **\n"
      ],
      "metadata": {
        "id": "bCCj2EXXj3VF"
      }
    },
    {
      "cell_type": "code",
      "source": [
        "import tensorflow as tf\n",
        "from tensorflow.keras.models import Sequential\n",
        "from tensorflow.keras.layers import SimpleRNN, Dense, Dropout, Embedding\n",
        "from sklearn.preprocessing import LabelEncoder, StandardScaler\n",
        "from sklearn.model_selection import train_test_split\n",
        "import pandas as pd\n",
        "import numpy as np"
      ],
      "metadata": {
        "id": "_V28RNt8kIpf"
      },
      "execution_count": null,
      "outputs": []
    },
    {
      "cell_type": "code",
      "source": [
        "# Load data\n",
        "data_path=\"/content/combined_Helicobacter_pylori.data\"\n",
        "\n",
        "data = pd.read_csv(data_path, header=None, delimiter=',')\n",
        "\n",
        "# Split features and target\n",
        "X = data.iloc[:, :-1].values  # Features (nucleotide sequences)\n",
        "y = data.iloc[:, -1].values   # Target labels (genotype)\n",
        "\n",
        "# Split the Dataset into Train and Test\n",
        "X_train, X_test, y_train, y_test = train_test_split(X, y, train_size=0.70)\n",
        "\n",
        "# Encode categorical target variable\n",
        "encoder = LabelEncoder()\n",
        "y_train_encoded = encoder.fit_transform(y_train)\n",
        "y_test_encoded = encoder.transform(y_test)\n",
        "\n",
        "# Optionally, scale the features if needed\n",
        "from sklearn.preprocessing import StandardScaler\n",
        "scaler = StandardScaler()\n",
        "X_train_scaled = scaler.fit_transform(X_train)\n",
        "X_test_scaled = scaler.transform(X_test)\n",
        "\n",
        "#Reshape input to be [samples, time steps, features]\n",
        "X_train_scaled = np.reshape(X_train_scaled, (X_train_scaled.shape[0], 1, X_train_scaled.shape[1]))\n",
        "X_test_scaled = np.reshape(X_test_scaled, (X_test_scaled.shape[0], 1, X_test_scaled.shape[1]))\n"
      ],
      "metadata": {
        "id": "P16rIntwkNMi"
      },
      "execution_count": null,
      "outputs": []
    },
    {
      "cell_type": "code",
      "source": [
        "# Define the model\n",
        "model = Sequential([\n",
        "    SimpleRNN(50, input_shape=(X_train_scaled.shape[1], X_train_scaled.shape[2]), return_sequences=True),\n",
        "    Dropout(0.2),\n",
        "    SimpleRNN(50, return_sequences=False),\n",
        "    Dropout(0.2),\n",
        "    Dense(len(np.unique(y_train_encoded)), activation='softmax')\n",
        "])\n",
        "\n",
        "# Compile the model\n",
        "model.compile(optimizer='adam', loss='sparse_categorical_crossentropy', metrics=['accuracy'])\n",
        "\n",
        "# Model summary\n",
        "model.summary()\n"
      ],
      "metadata": {
        "colab": {
          "base_uri": "https://localhost:8080/"
        },
        "id": "r4yLZGhUkOZh",
        "outputId": "ae055d61-d7f7-42c8-e139-7805d1527b65"
      },
      "execution_count": null,
      "outputs": [
        {
          "output_type": "stream",
          "name": "stdout",
          "text": [
            "Model: \"sequential\"\n",
            "_________________________________________________________________\n",
            " Layer (type)                Output Shape              Param #   \n",
            "=================================================================\n",
            " simple_rnn (SimpleRNN)      (None, 1, 50)             12550     \n",
            "                                                                 \n",
            " dropout (Dropout)           (None, 1, 50)             0         \n",
            "                                                                 \n",
            " simple_rnn_1 (SimpleRNN)    (None, 50)                5050      \n",
            "                                                                 \n",
            " dropout_1 (Dropout)         (None, 50)                0         \n",
            "                                                                 \n",
            " dense (Dense)               (None, 4)                 204       \n",
            "                                                                 \n",
            "=================================================================\n",
            "Total params: 17804 (69.55 KB)\n",
            "Trainable params: 17804 (69.55 KB)\n",
            "Non-trainable params: 0 (0.00 Byte)\n",
            "_________________________________________________________________\n"
          ]
        }
      ]
    },
    {
      "cell_type": "code",
      "source": [
        "# Train the model\n",
        "history = model.fit(X_train_scaled, y_train_encoded, epochs=100, batch_size=18, validation_data=(X_test_scaled, y_test_encoded))\n"
      ],
      "metadata": {
        "colab": {
          "base_uri": "https://localhost:8080/"
        },
        "id": "pm4MrQxUkVkH",
        "outputId": "b892c1b1-aa4a-463f-9d1a-c1ad4906ab69"
      },
      "execution_count": null,
      "outputs": [
        {
          "output_type": "stream",
          "name": "stdout",
          "text": [
            "Epoch 1/100\n",
            "3/3 [==============================] - 4s 393ms/step - loss: 1.9857 - accuracy: 0.1020 - val_loss: 1.3355 - val_accuracy: 0.4545\n",
            "Epoch 2/100\n",
            "3/3 [==============================] - 0s 22ms/step - loss: 1.1437 - accuracy: 0.5306 - val_loss: 0.8109 - val_accuracy: 0.8636\n",
            "Epoch 3/100\n",
            "3/3 [==============================] - 0s 22ms/step - loss: 0.6632 - accuracy: 0.8367 - val_loss: 0.5414 - val_accuracy: 0.9091\n",
            "Epoch 4/100\n",
            "3/3 [==============================] - 0s 29ms/step - loss: 0.4066 - accuracy: 0.8980 - val_loss: 0.3899 - val_accuracy: 0.9091\n",
            "Epoch 5/100\n",
            "3/3 [==============================] - 0s 21ms/step - loss: 0.2586 - accuracy: 1.0000 - val_loss: 0.2980 - val_accuracy: 0.9545\n",
            "Epoch 6/100\n",
            "3/3 [==============================] - 0s 27ms/step - loss: 0.2221 - accuracy: 0.9796 - val_loss: 0.2400 - val_accuracy: 0.9545\n",
            "Epoch 7/100\n",
            "3/3 [==============================] - 0s 27ms/step - loss: 0.1596 - accuracy: 1.0000 - val_loss: 0.2023 - val_accuracy: 0.9545\n",
            "Epoch 8/100\n",
            "3/3 [==============================] - 0s 30ms/step - loss: 0.1125 - accuracy: 1.0000 - val_loss: 0.1791 - val_accuracy: 0.9545\n",
            "Epoch 9/100\n",
            "3/3 [==============================] - 0s 27ms/step - loss: 0.1155 - accuracy: 1.0000 - val_loss: 0.1628 - val_accuracy: 0.9545\n",
            "Epoch 10/100\n",
            "3/3 [==============================] - 0s 30ms/step - loss: 0.1126 - accuracy: 1.0000 - val_loss: 0.1504 - val_accuracy: 0.9545\n",
            "Epoch 11/100\n",
            "3/3 [==============================] - 0s 29ms/step - loss: 0.0830 - accuracy: 1.0000 - val_loss: 0.1410 - val_accuracy: 0.9545\n",
            "Epoch 12/100\n",
            "3/3 [==============================] - 0s 20ms/step - loss: 0.0508 - accuracy: 1.0000 - val_loss: 0.1345 - val_accuracy: 0.9545\n",
            "Epoch 13/100\n",
            "3/3 [==============================] - 0s 30ms/step - loss: 0.0650 - accuracy: 1.0000 - val_loss: 0.1296 - val_accuracy: 0.9545\n",
            "Epoch 14/100\n",
            "3/3 [==============================] - 0s 29ms/step - loss: 0.0623 - accuracy: 1.0000 - val_loss: 0.1258 - val_accuracy: 0.9545\n",
            "Epoch 15/100\n",
            "3/3 [==============================] - 0s 22ms/step - loss: 0.0393 - accuracy: 1.0000 - val_loss: 0.1225 - val_accuracy: 0.9545\n",
            "Epoch 16/100\n",
            "3/3 [==============================] - 0s 30ms/step - loss: 0.0355 - accuracy: 1.0000 - val_loss: 0.1200 - val_accuracy: 0.9545\n",
            "Epoch 17/100\n",
            "3/3 [==============================] - 0s 31ms/step - loss: 0.0411 - accuracy: 1.0000 - val_loss: 0.1181 - val_accuracy: 0.9545\n",
            "Epoch 18/100\n",
            "3/3 [==============================] - 0s 22ms/step - loss: 0.0365 - accuracy: 1.0000 - val_loss: 0.1168 - val_accuracy: 0.9545\n",
            "Epoch 19/100\n",
            "3/3 [==============================] - 0s 21ms/step - loss: 0.0290 - accuracy: 1.0000 - val_loss: 0.1159 - val_accuracy: 0.9545\n",
            "Epoch 20/100\n",
            "3/3 [==============================] - 0s 21ms/step - loss: 0.0293 - accuracy: 1.0000 - val_loss: 0.1152 - val_accuracy: 0.9545\n",
            "Epoch 21/100\n",
            "3/3 [==============================] - 0s 20ms/step - loss: 0.0256 - accuracy: 1.0000 - val_loss: 0.1147 - val_accuracy: 0.9545\n",
            "Epoch 22/100\n",
            "3/3 [==============================] - 0s 28ms/step - loss: 0.0284 - accuracy: 1.0000 - val_loss: 0.1143 - val_accuracy: 0.9545\n",
            "Epoch 23/100\n",
            "3/3 [==============================] - 0s 28ms/step - loss: 0.0277 - accuracy: 1.0000 - val_loss: 0.1141 - val_accuracy: 0.9545\n",
            "Epoch 24/100\n",
            "3/3 [==============================] - 0s 20ms/step - loss: 0.0199 - accuracy: 1.0000 - val_loss: 0.1139 - val_accuracy: 0.9545\n",
            "Epoch 25/100\n",
            "3/3 [==============================] - 0s 22ms/step - loss: 0.0219 - accuracy: 1.0000 - val_loss: 0.1138 - val_accuracy: 0.9545\n",
            "Epoch 26/100\n",
            "3/3 [==============================] - 0s 28ms/step - loss: 0.0248 - accuracy: 1.0000 - val_loss: 0.1137 - val_accuracy: 0.9545\n",
            "Epoch 27/100\n",
            "3/3 [==============================] - 0s 23ms/step - loss: 0.0215 - accuracy: 1.0000 - val_loss: 0.1136 - val_accuracy: 0.9545\n",
            "Epoch 28/100\n",
            "3/3 [==============================] - 0s 28ms/step - loss: 0.0189 - accuracy: 1.0000 - val_loss: 0.1135 - val_accuracy: 0.9545\n",
            "Epoch 29/100\n",
            "3/3 [==============================] - 0s 28ms/step - loss: 0.0223 - accuracy: 1.0000 - val_loss: 0.1135 - val_accuracy: 0.9545\n",
            "Epoch 30/100\n",
            "3/3 [==============================] - 0s 31ms/step - loss: 0.0175 - accuracy: 1.0000 - val_loss: 0.1133 - val_accuracy: 0.9545\n",
            "Epoch 31/100\n",
            "3/3 [==============================] - 0s 23ms/step - loss: 0.0169 - accuracy: 1.0000 - val_loss: 0.1133 - val_accuracy: 0.9545\n",
            "Epoch 32/100\n",
            "3/3 [==============================] - 0s 37ms/step - loss: 0.0138 - accuracy: 1.0000 - val_loss: 0.1133 - val_accuracy: 0.9545\n",
            "Epoch 33/100\n",
            "3/3 [==============================] - 0s 22ms/step - loss: 0.0177 - accuracy: 1.0000 - val_loss: 0.1133 - val_accuracy: 0.9545\n",
            "Epoch 34/100\n",
            "3/3 [==============================] - 0s 20ms/step - loss: 0.0160 - accuracy: 1.0000 - val_loss: 0.1133 - val_accuracy: 0.9545\n",
            "Epoch 35/100\n",
            "3/3 [==============================] - 0s 27ms/step - loss: 0.0112 - accuracy: 1.0000 - val_loss: 0.1133 - val_accuracy: 0.9545\n",
            "Epoch 36/100\n",
            "3/3 [==============================] - 0s 27ms/step - loss: 0.0128 - accuracy: 1.0000 - val_loss: 0.1133 - val_accuracy: 0.9545\n",
            "Epoch 37/100\n",
            "3/3 [==============================] - 0s 27ms/step - loss: 0.0131 - accuracy: 1.0000 - val_loss: 0.1133 - val_accuracy: 0.9545\n",
            "Epoch 38/100\n",
            "3/3 [==============================] - 0s 19ms/step - loss: 0.0114 - accuracy: 1.0000 - val_loss: 0.1134 - val_accuracy: 0.9545\n",
            "Epoch 39/100\n",
            "3/3 [==============================] - 0s 27ms/step - loss: 0.0138 - accuracy: 1.0000 - val_loss: 0.1136 - val_accuracy: 0.9545\n",
            "Epoch 40/100\n",
            "3/3 [==============================] - 0s 22ms/step - loss: 0.0129 - accuracy: 1.0000 - val_loss: 0.1138 - val_accuracy: 0.9545\n",
            "Epoch 41/100\n",
            "3/3 [==============================] - 0s 19ms/step - loss: 0.0100 - accuracy: 1.0000 - val_loss: 0.1139 - val_accuracy: 0.9545\n",
            "Epoch 42/100\n",
            "3/3 [==============================] - 0s 20ms/step - loss: 0.0118 - accuracy: 1.0000 - val_loss: 0.1140 - val_accuracy: 0.9545\n",
            "Epoch 43/100\n",
            "3/3 [==============================] - 0s 19ms/step - loss: 0.0114 - accuracy: 1.0000 - val_loss: 0.1142 - val_accuracy: 0.9545\n",
            "Epoch 44/100\n",
            "3/3 [==============================] - 0s 26ms/step - loss: 0.0122 - accuracy: 1.0000 - val_loss: 0.1145 - val_accuracy: 0.9545\n",
            "Epoch 45/100\n",
            "3/3 [==============================] - 0s 20ms/step - loss: 0.0124 - accuracy: 1.0000 - val_loss: 0.1147 - val_accuracy: 0.9545\n",
            "Epoch 46/100\n",
            "3/3 [==============================] - 0s 21ms/step - loss: 0.0113 - accuracy: 1.0000 - val_loss: 0.1150 - val_accuracy: 0.9545\n",
            "Epoch 47/100\n",
            "3/3 [==============================] - 0s 19ms/step - loss: 0.0112 - accuracy: 1.0000 - val_loss: 0.1152 - val_accuracy: 0.9545\n",
            "Epoch 48/100\n",
            "3/3 [==============================] - 0s 28ms/step - loss: 0.0083 - accuracy: 1.0000 - val_loss: 0.1153 - val_accuracy: 0.9545\n",
            "Epoch 49/100\n",
            "3/3 [==============================] - 0s 32ms/step - loss: 0.0097 - accuracy: 1.0000 - val_loss: 0.1155 - val_accuracy: 0.9545\n",
            "Epoch 50/100\n",
            "3/3 [==============================] - 0s 30ms/step - loss: 0.0082 - accuracy: 1.0000 - val_loss: 0.1158 - val_accuracy: 0.9545\n",
            "Epoch 51/100\n",
            "3/3 [==============================] - 0s 21ms/step - loss: 0.0082 - accuracy: 1.0000 - val_loss: 0.1161 - val_accuracy: 0.9545\n",
            "Epoch 52/100\n",
            "3/3 [==============================] - 0s 28ms/step - loss: 0.0080 - accuracy: 1.0000 - val_loss: 0.1163 - val_accuracy: 0.9545\n",
            "Epoch 53/100\n",
            "3/3 [==============================] - 0s 32ms/step - loss: 0.0097 - accuracy: 1.0000 - val_loss: 0.1165 - val_accuracy: 0.9545\n",
            "Epoch 54/100\n",
            "3/3 [==============================] - 0s 29ms/step - loss: 0.0098 - accuracy: 1.0000 - val_loss: 0.1166 - val_accuracy: 0.9545\n",
            "Epoch 55/100\n",
            "3/3 [==============================] - 0s 23ms/step - loss: 0.0083 - accuracy: 1.0000 - val_loss: 0.1168 - val_accuracy: 0.9545\n",
            "Epoch 56/100\n",
            "3/3 [==============================] - 0s 30ms/step - loss: 0.0081 - accuracy: 1.0000 - val_loss: 0.1170 - val_accuracy: 0.9545\n",
            "Epoch 57/100\n",
            "3/3 [==============================] - 0s 29ms/step - loss: 0.0063 - accuracy: 1.0000 - val_loss: 0.1171 - val_accuracy: 0.9545\n",
            "Epoch 58/100\n",
            "3/3 [==============================] - 0s 25ms/step - loss: 0.0057 - accuracy: 1.0000 - val_loss: 0.1173 - val_accuracy: 0.9545\n",
            "Epoch 59/100\n",
            "3/3 [==============================] - 0s 30ms/step - loss: 0.0101 - accuracy: 1.0000 - val_loss: 0.1175 - val_accuracy: 0.9545\n",
            "Epoch 60/100\n",
            "3/3 [==============================] - 0s 29ms/step - loss: 0.0074 - accuracy: 1.0000 - val_loss: 0.1177 - val_accuracy: 0.9545\n",
            "Epoch 61/100\n",
            "3/3 [==============================] - 0s 29ms/step - loss: 0.0087 - accuracy: 1.0000 - val_loss: 0.1180 - val_accuracy: 0.9545\n",
            "Epoch 62/100\n",
            "3/3 [==============================] - 0s 27ms/step - loss: 0.0062 - accuracy: 1.0000 - val_loss: 0.1182 - val_accuracy: 0.9545\n",
            "Epoch 63/100\n",
            "3/3 [==============================] - 0s 25ms/step - loss: 0.0069 - accuracy: 1.0000 - val_loss: 0.1185 - val_accuracy: 0.9545\n",
            "Epoch 64/100\n",
            "3/3 [==============================] - 0s 32ms/step - loss: 0.0080 - accuracy: 1.0000 - val_loss: 0.1187 - val_accuracy: 0.9545\n",
            "Epoch 65/100\n",
            "3/3 [==============================] - 0s 30ms/step - loss: 0.0065 - accuracy: 1.0000 - val_loss: 0.1188 - val_accuracy: 0.9545\n",
            "Epoch 66/100\n",
            "3/3 [==============================] - 0s 28ms/step - loss: 0.0081 - accuracy: 1.0000 - val_loss: 0.1190 - val_accuracy: 0.9545\n",
            "Epoch 67/100\n",
            "3/3 [==============================] - 0s 22ms/step - loss: 0.0077 - accuracy: 1.0000 - val_loss: 0.1192 - val_accuracy: 0.9545\n",
            "Epoch 68/100\n",
            "3/3 [==============================] - 0s 29ms/step - loss: 0.0071 - accuracy: 1.0000 - val_loss: 0.1193 - val_accuracy: 0.9545\n",
            "Epoch 69/100\n",
            "3/3 [==============================] - 0s 28ms/step - loss: 0.0070 - accuracy: 1.0000 - val_loss: 0.1194 - val_accuracy: 0.9545\n",
            "Epoch 70/100\n",
            "3/3 [==============================] - 0s 28ms/step - loss: 0.0057 - accuracy: 1.0000 - val_loss: 0.1196 - val_accuracy: 0.9545\n",
            "Epoch 71/100\n",
            "3/3 [==============================] - 0s 30ms/step - loss: 0.0062 - accuracy: 1.0000 - val_loss: 0.1197 - val_accuracy: 0.9545\n",
            "Epoch 72/100\n",
            "3/3 [==============================] - 0s 29ms/step - loss: 0.0063 - accuracy: 1.0000 - val_loss: 0.1199 - val_accuracy: 0.9545\n",
            "Epoch 73/100\n",
            "3/3 [==============================] - 0s 21ms/step - loss: 0.0047 - accuracy: 1.0000 - val_loss: 0.1201 - val_accuracy: 0.9545\n",
            "Epoch 74/100\n",
            "3/3 [==============================] - 0s 29ms/step - loss: 0.0057 - accuracy: 1.0000 - val_loss: 0.1202 - val_accuracy: 0.9545\n",
            "Epoch 75/100\n",
            "3/3 [==============================] - 0s 28ms/step - loss: 0.0056 - accuracy: 1.0000 - val_loss: 0.1204 - val_accuracy: 0.9545\n",
            "Epoch 76/100\n",
            "3/3 [==============================] - 0s 29ms/step - loss: 0.0058 - accuracy: 1.0000 - val_loss: 0.1205 - val_accuracy: 0.9545\n",
            "Epoch 77/100\n",
            "3/3 [==============================] - 0s 20ms/step - loss: 0.0054 - accuracy: 1.0000 - val_loss: 0.1207 - val_accuracy: 0.9545\n",
            "Epoch 78/100\n",
            "3/3 [==============================] - 0s 21ms/step - loss: 0.0057 - accuracy: 1.0000 - val_loss: 0.1208 - val_accuracy: 0.9545\n",
            "Epoch 79/100\n",
            "3/3 [==============================] - 0s 31ms/step - loss: 0.0045 - accuracy: 1.0000 - val_loss: 0.1209 - val_accuracy: 0.9545\n",
            "Epoch 80/100\n",
            "3/3 [==============================] - 0s 31ms/step - loss: 0.0045 - accuracy: 1.0000 - val_loss: 0.1211 - val_accuracy: 0.9545\n",
            "Epoch 81/100\n",
            "3/3 [==============================] - 0s 24ms/step - loss: 0.0052 - accuracy: 1.0000 - val_loss: 0.1214 - val_accuracy: 0.9545\n",
            "Epoch 82/100\n",
            "3/3 [==============================] - 0s 30ms/step - loss: 0.0066 - accuracy: 1.0000 - val_loss: 0.1216 - val_accuracy: 0.9545\n",
            "Epoch 83/100\n",
            "3/3 [==============================] - 0s 34ms/step - loss: 0.0053 - accuracy: 1.0000 - val_loss: 0.1218 - val_accuracy: 0.9545\n",
            "Epoch 84/100\n",
            "3/3 [==============================] - 0s 23ms/step - loss: 0.0038 - accuracy: 1.0000 - val_loss: 0.1220 - val_accuracy: 0.9545\n",
            "Epoch 85/100\n",
            "3/3 [==============================] - 0s 23ms/step - loss: 0.0038 - accuracy: 1.0000 - val_loss: 0.1222 - val_accuracy: 0.9545\n",
            "Epoch 86/100\n",
            "3/3 [==============================] - 0s 29ms/step - loss: 0.0045 - accuracy: 1.0000 - val_loss: 0.1224 - val_accuracy: 0.9545\n",
            "Epoch 87/100\n",
            "3/3 [==============================] - 0s 30ms/step - loss: 0.0042 - accuracy: 1.0000 - val_loss: 0.1227 - val_accuracy: 0.9545\n",
            "Epoch 88/100\n",
            "3/3 [==============================] - 0s 22ms/step - loss: 0.0047 - accuracy: 1.0000 - val_loss: 0.1229 - val_accuracy: 0.9545\n",
            "Epoch 89/100\n",
            "3/3 [==============================] - 0s 23ms/step - loss: 0.0035 - accuracy: 1.0000 - val_loss: 0.1231 - val_accuracy: 0.9545\n",
            "Epoch 90/100\n",
            "3/3 [==============================] - 0s 22ms/step - loss: 0.0064 - accuracy: 1.0000 - val_loss: 0.1233 - val_accuracy: 0.9545\n",
            "Epoch 91/100\n",
            "3/3 [==============================] - 0s 21ms/step - loss: 0.0032 - accuracy: 1.0000 - val_loss: 0.1236 - val_accuracy: 0.9545\n",
            "Epoch 92/100\n",
            "3/3 [==============================] - 0s 30ms/step - loss: 0.0045 - accuracy: 1.0000 - val_loss: 0.1238 - val_accuracy: 0.9545\n",
            "Epoch 93/100\n",
            "3/3 [==============================] - 0s 30ms/step - loss: 0.0036 - accuracy: 1.0000 - val_loss: 0.1240 - val_accuracy: 0.9545\n",
            "Epoch 94/100\n",
            "3/3 [==============================] - 0s 38ms/step - loss: 0.0038 - accuracy: 1.0000 - val_loss: 0.1241 - val_accuracy: 0.9545\n",
            "Epoch 95/100\n",
            "3/3 [==============================] - 0s 23ms/step - loss: 0.0030 - accuracy: 1.0000 - val_loss: 0.1243 - val_accuracy: 0.9545\n",
            "Epoch 96/100\n",
            "3/3 [==============================] - 0s 30ms/step - loss: 0.0040 - accuracy: 1.0000 - val_loss: 0.1244 - val_accuracy: 0.9545\n",
            "Epoch 97/100\n",
            "3/3 [==============================] - 0s 30ms/step - loss: 0.0033 - accuracy: 1.0000 - val_loss: 0.1246 - val_accuracy: 0.9545\n",
            "Epoch 98/100\n",
            "3/3 [==============================] - 0s 33ms/step - loss: 0.0042 - accuracy: 1.0000 - val_loss: 0.1247 - val_accuracy: 0.9545\n",
            "Epoch 99/100\n",
            "3/3 [==============================] - 0s 24ms/step - loss: 0.0034 - accuracy: 1.0000 - val_loss: 0.1249 - val_accuracy: 0.9545\n",
            "Epoch 100/100\n",
            "3/3 [==============================] - 0s 23ms/step - loss: 0.0030 - accuracy: 1.0000 - val_loss: 0.1250 - val_accuracy: 0.9545\n"
          ]
        }
      ]
    },
    {
      "cell_type": "code",
      "source": [
        "# Evaluate the model\n",
        "loss, accuracy = model.evaluate(X_test_scaled, y_test_encoded)\n",
        "print(\"Test Accuracy:\", accuracy)\n"
      ],
      "metadata": {
        "colab": {
          "base_uri": "https://localhost:8080/"
        },
        "id": "dzzRmw_nkZBj",
        "outputId": "b38db993-99d5-470d-915f-6939bc42db07"
      },
      "execution_count": null,
      "outputs": [
        {
          "output_type": "stream",
          "name": "stdout",
          "text": [
            "1/1 [==============================] - 0s 29ms/step - loss: 0.1250 - accuracy: 0.9545\n",
            "Test Accuracy: 0.9545454382896423\n"
          ]
        }
      ]
    },
    {
      "cell_type": "code",
      "source": [
        "# Predict on test data\n",
        "predictions = model.predict(X_test_scaled)\n",
        "predicted_classes = np.argmax(predictions, axis=1)\n",
        "\n",
        "# Print classification report\n",
        "from sklearn.metrics import classification_report\n",
        "print(classification_report(y_test_encoded, predicted_classes))\n"
      ],
      "metadata": {
        "colab": {
          "base_uri": "https://localhost:8080/"
        },
        "id": "xxOWaERYkbmm",
        "outputId": "74d1c9d0-c034-44a4-fd7b-a91b77d29059"
      },
      "execution_count": null,
      "outputs": [
        {
          "output_type": "stream",
          "name": "stdout",
          "text": [
            "1/1 [==============================] - 0s 272ms/step\n",
            "              precision    recall  f1-score   support\n",
            "\n",
            "           0       0.86      1.00      0.92         6\n",
            "           1       1.00      0.67      0.80         3\n",
            "           2       1.00      1.00      1.00         6\n",
            "           3       1.00      1.00      1.00         7\n",
            "\n",
            "    accuracy                           0.95        22\n",
            "   macro avg       0.96      0.92      0.93        22\n",
            "weighted avg       0.96      0.95      0.95        22\n",
            "\n"
          ]
        }
      ]
    },
    {
      "cell_type": "markdown",
      "source": [
        "# **Recurrent Neural Networks (RNNs) with 80/20 split **\n"
      ],
      "metadata": {
        "id": "NOvG9tZhmgoA"
      }
    },
    {
      "cell_type": "code",
      "source": [
        "import tensorflow as tf\n",
        "from tensorflow.keras.models import Sequential\n",
        "from tensorflow.keras.layers import SimpleRNN, Dense, Dropout, Embedding\n",
        "from sklearn.preprocessing import LabelEncoder, StandardScaler\n",
        "from sklearn.model_selection import train_test_split\n",
        "import pandas as pd\n",
        "import numpy as np"
      ],
      "metadata": {
        "id": "bbUNu69wmjPx"
      },
      "execution_count": null,
      "outputs": []
    },
    {
      "cell_type": "code",
      "source": [
        "# Load data\n",
        "data_path=\"/content/combined_Helicobacter_pylori.data\"\n",
        "\n",
        "data = pd.read_csv(data_path, header=None, delimiter=',')\n",
        "\n",
        "# Split features and target\n",
        "X = data.iloc[:, :-1].values  # Features (nucleotide sequences)\n",
        "y = data.iloc[:, -1].values   # Target labels (genotype)\n",
        "\n",
        "# Split the Dataset into Train and Test\n",
        "X_train, X_test, y_train, y_test = train_test_split(X, y, train_size=0.80)\n",
        "\n",
        "# Encode categorical target variable\n",
        "encoder = LabelEncoder()\n",
        "y_train_encoded = encoder.fit_transform(y_train)\n",
        "y_test_encoded = encoder.transform(y_test)\n",
        "\n",
        "# Optionally, scale the features if needed\n",
        "from sklearn.preprocessing import StandardScaler\n",
        "scaler = StandardScaler()\n",
        "X_train_scaled = scaler.fit_transform(X_train)\n",
        "X_test_scaled = scaler.transform(X_test)\n",
        "\n",
        "#Reshape input to be [samples, time steps, features]\n",
        "X_train_scaled = np.reshape(X_train_scaled, (X_train_scaled.shape[0], 1, X_train_scaled.shape[1]))\n",
        "X_test_scaled = np.reshape(X_test_scaled, (X_test_scaled.shape[0], 1, X_test_scaled.shape[1]))\n"
      ],
      "metadata": {
        "id": "3XTZ0BPZmnNi"
      },
      "execution_count": null,
      "outputs": []
    },
    {
      "cell_type": "code",
      "source": [
        "# Define the model\n",
        "model = Sequential([\n",
        "    SimpleRNN(50, input_shape=(X_train_scaled.shape[1], X_train_scaled.shape[2]), return_sequences=True),\n",
        "    Dropout(0.2),\n",
        "    SimpleRNN(50, return_sequences=False),\n",
        "    Dropout(0.2),\n",
        "    Dense(len(np.unique(y_train_encoded)), activation='softmax')\n",
        "])\n",
        "\n",
        "# Compile the model\n",
        "model.compile(optimizer='adam', loss='sparse_categorical_crossentropy', metrics=['accuracy'])\n",
        "\n",
        "# Model summary\n",
        "model.summary()\n"
      ],
      "metadata": {
        "colab": {
          "base_uri": "https://localhost:8080/"
        },
        "id": "_AHoIkgYmyhZ",
        "outputId": "2f024a45-1e71-427e-fea0-b31a329853bd"
      },
      "execution_count": null,
      "outputs": [
        {
          "output_type": "stream",
          "name": "stdout",
          "text": [
            "Model: \"sequential_1\"\n",
            "_________________________________________________________________\n",
            " Layer (type)                Output Shape              Param #   \n",
            "=================================================================\n",
            " simple_rnn_2 (SimpleRNN)    (None, 1, 50)             12550     \n",
            "                                                                 \n",
            " dropout_2 (Dropout)         (None, 1, 50)             0         \n",
            "                                                                 \n",
            " simple_rnn_3 (SimpleRNN)    (None, 50)                5050      \n",
            "                                                                 \n",
            " dropout_3 (Dropout)         (None, 50)                0         \n",
            "                                                                 \n",
            " dense_1 (Dense)             (None, 4)                 204       \n",
            "                                                                 \n",
            "=================================================================\n",
            "Total params: 17804 (69.55 KB)\n",
            "Trainable params: 17804 (69.55 KB)\n",
            "Non-trainable params: 0 (0.00 Byte)\n",
            "_________________________________________________________________\n"
          ]
        }
      ]
    },
    {
      "cell_type": "code",
      "source": [
        "# Train the model\n",
        "history = model.fit(X_train_scaled, y_train_encoded, epochs=100, batch_size=18, validation_data=(X_test_scaled, y_test_encoded))\n"
      ],
      "metadata": {
        "colab": {
          "base_uri": "https://localhost:8080/"
        },
        "id": "6Rn1U4LQm1OD",
        "outputId": "eaebac1f-52a3-4cb3-ad71-a8b46e2308ad"
      },
      "execution_count": null,
      "outputs": [
        {
          "output_type": "stream",
          "name": "stdout",
          "text": [
            "Epoch 1/100\n",
            "4/4 [==============================] - 3s 252ms/step - loss: 1.4174 - accuracy: 0.3750 - val_loss: 0.7376 - val_accuracy: 0.8667\n",
            "Epoch 2/100\n",
            "4/4 [==============================] - 0s 41ms/step - loss: 0.6027 - accuracy: 0.8929 - val_loss: 0.3663 - val_accuracy: 1.0000\n",
            "Epoch 3/100\n",
            "4/4 [==============================] - 0s 30ms/step - loss: 0.4027 - accuracy: 0.9464 - val_loss: 0.2121 - val_accuracy: 1.0000\n",
            "Epoch 4/100\n",
            "4/4 [==============================] - 0s 34ms/step - loss: 0.2148 - accuracy: 1.0000 - val_loss: 0.1330 - val_accuracy: 1.0000\n",
            "Epoch 5/100\n",
            "4/4 [==============================] - 0s 54ms/step - loss: 0.1352 - accuracy: 1.0000 - val_loss: 0.0933 - val_accuracy: 1.0000\n",
            "Epoch 6/100\n",
            "4/4 [==============================] - 0s 41ms/step - loss: 0.1327 - accuracy: 1.0000 - val_loss: 0.0701 - val_accuracy: 1.0000\n",
            "Epoch 7/100\n",
            "4/4 [==============================] - 0s 30ms/step - loss: 0.0884 - accuracy: 1.0000 - val_loss: 0.0562 - val_accuracy: 1.0000\n",
            "Epoch 8/100\n",
            "4/4 [==============================] - 0s 44ms/step - loss: 0.0726 - accuracy: 1.0000 - val_loss: 0.0471 - val_accuracy: 1.0000\n",
            "Epoch 9/100\n",
            "4/4 [==============================] - 0s 44ms/step - loss: 0.0648 - accuracy: 1.0000 - val_loss: 0.0406 - val_accuracy: 1.0000\n",
            "Epoch 10/100\n",
            "4/4 [==============================] - 0s 42ms/step - loss: 0.0598 - accuracy: 1.0000 - val_loss: 0.0355 - val_accuracy: 1.0000\n",
            "Epoch 11/100\n",
            "4/4 [==============================] - 0s 37ms/step - loss: 0.0453 - accuracy: 1.0000 - val_loss: 0.0316 - val_accuracy: 1.0000\n",
            "Epoch 12/100\n",
            "4/4 [==============================] - 0s 39ms/step - loss: 0.0384 - accuracy: 1.0000 - val_loss: 0.0285 - val_accuracy: 1.0000\n",
            "Epoch 13/100\n",
            "4/4 [==============================] - 0s 40ms/step - loss: 0.0455 - accuracy: 1.0000 - val_loss: 0.0260 - val_accuracy: 1.0000\n",
            "Epoch 14/100\n",
            "4/4 [==============================] - 0s 36ms/step - loss: 0.0431 - accuracy: 1.0000 - val_loss: 0.0241 - val_accuracy: 1.0000\n",
            "Epoch 15/100\n",
            "4/4 [==============================] - 0s 45ms/step - loss: 0.0270 - accuracy: 1.0000 - val_loss: 0.0224 - val_accuracy: 1.0000\n",
            "Epoch 16/100\n",
            "4/4 [==============================] - 0s 69ms/step - loss: 0.0238 - accuracy: 1.0000 - val_loss: 0.0210 - val_accuracy: 1.0000\n",
            "Epoch 17/100\n",
            "4/4 [==============================] - 0s 50ms/step - loss: 0.0377 - accuracy: 1.0000 - val_loss: 0.0196 - val_accuracy: 1.0000\n",
            "Epoch 18/100\n",
            "4/4 [==============================] - 0s 43ms/step - loss: 0.0248 - accuracy: 1.0000 - val_loss: 0.0184 - val_accuracy: 1.0000\n",
            "Epoch 19/100\n",
            "4/4 [==============================] - 0s 47ms/step - loss: 0.0302 - accuracy: 1.0000 - val_loss: 0.0173 - val_accuracy: 1.0000\n",
            "Epoch 20/100\n",
            "4/4 [==============================] - 0s 52ms/step - loss: 0.0243 - accuracy: 1.0000 - val_loss: 0.0161 - val_accuracy: 1.0000\n",
            "Epoch 21/100\n",
            "4/4 [==============================] - 0s 79ms/step - loss: 0.0350 - accuracy: 1.0000 - val_loss: 0.0151 - val_accuracy: 1.0000\n",
            "Epoch 22/100\n",
            "4/4 [==============================] - 0s 55ms/step - loss: 0.0289 - accuracy: 1.0000 - val_loss: 0.0141 - val_accuracy: 1.0000\n",
            "Epoch 23/100\n",
            "4/4 [==============================] - 0s 45ms/step - loss: 0.0168 - accuracy: 1.0000 - val_loss: 0.0133 - val_accuracy: 1.0000\n",
            "Epoch 24/100\n",
            "4/4 [==============================] - 0s 41ms/step - loss: 0.0196 - accuracy: 1.0000 - val_loss: 0.0126 - val_accuracy: 1.0000\n",
            "Epoch 25/100\n",
            "4/4 [==============================] - 0s 47ms/step - loss: 0.0179 - accuracy: 1.0000 - val_loss: 0.0120 - val_accuracy: 1.0000\n",
            "Epoch 26/100\n",
            "4/4 [==============================] - 0s 41ms/step - loss: 0.0138 - accuracy: 1.0000 - val_loss: 0.0115 - val_accuracy: 1.0000\n",
            "Epoch 27/100\n",
            "4/4 [==============================] - 0s 46ms/step - loss: 0.0193 - accuracy: 1.0000 - val_loss: 0.0109 - val_accuracy: 1.0000\n",
            "Epoch 28/100\n",
            "4/4 [==============================] - 0s 53ms/step - loss: 0.0182 - accuracy: 1.0000 - val_loss: 0.0104 - val_accuracy: 1.0000\n",
            "Epoch 29/100\n",
            "4/4 [==============================] - 0s 21ms/step - loss: 0.0175 - accuracy: 1.0000 - val_loss: 0.0100 - val_accuracy: 1.0000\n",
            "Epoch 30/100\n",
            "4/4 [==============================] - 0s 25ms/step - loss: 0.0122 - accuracy: 1.0000 - val_loss: 0.0096 - val_accuracy: 1.0000\n",
            "Epoch 31/100\n",
            "4/4 [==============================] - 0s 28ms/step - loss: 0.0126 - accuracy: 1.0000 - val_loss: 0.0093 - val_accuracy: 1.0000\n",
            "Epoch 32/100\n",
            "4/4 [==============================] - 0s 20ms/step - loss: 0.0118 - accuracy: 1.0000 - val_loss: 0.0090 - val_accuracy: 1.0000\n",
            "Epoch 33/100\n",
            "4/4 [==============================] - 0s 25ms/step - loss: 0.0134 - accuracy: 1.0000 - val_loss: 0.0087 - val_accuracy: 1.0000\n",
            "Epoch 34/100\n",
            "4/4 [==============================] - 0s 19ms/step - loss: 0.0127 - accuracy: 1.0000 - val_loss: 0.0084 - val_accuracy: 1.0000\n",
            "Epoch 35/100\n",
            "4/4 [==============================] - 0s 14ms/step - loss: 0.0159 - accuracy: 1.0000 - val_loss: 0.0081 - val_accuracy: 1.0000\n",
            "Epoch 36/100\n",
            "4/4 [==============================] - 0s 13ms/step - loss: 0.0115 - accuracy: 1.0000 - val_loss: 0.0078 - val_accuracy: 1.0000\n",
            "Epoch 37/100\n",
            "4/4 [==============================] - 0s 13ms/step - loss: 0.0121 - accuracy: 1.0000 - val_loss: 0.0076 - val_accuracy: 1.0000\n",
            "Epoch 38/100\n",
            "4/4 [==============================] - 0s 14ms/step - loss: 0.0099 - accuracy: 1.0000 - val_loss: 0.0073 - val_accuracy: 1.0000\n",
            "Epoch 39/100\n",
            "4/4 [==============================] - 0s 13ms/step - loss: 0.0135 - accuracy: 1.0000 - val_loss: 0.0071 - val_accuracy: 1.0000\n",
            "Epoch 40/100\n",
            "4/4 [==============================] - 0s 13ms/step - loss: 0.0123 - accuracy: 1.0000 - val_loss: 0.0069 - val_accuracy: 1.0000\n",
            "Epoch 41/100\n",
            "4/4 [==============================] - 0s 13ms/step - loss: 0.0080 - accuracy: 1.0000 - val_loss: 0.0067 - val_accuracy: 1.0000\n",
            "Epoch 42/100\n",
            "4/4 [==============================] - 0s 14ms/step - loss: 0.0080 - accuracy: 1.0000 - val_loss: 0.0065 - val_accuracy: 1.0000\n",
            "Epoch 43/100\n",
            "4/4 [==============================] - 0s 13ms/step - loss: 0.0089 - accuracy: 1.0000 - val_loss: 0.0064 - val_accuracy: 1.0000\n",
            "Epoch 44/100\n",
            "4/4 [==============================] - 0s 21ms/step - loss: 0.0082 - accuracy: 1.0000 - val_loss: 0.0062 - val_accuracy: 1.0000\n",
            "Epoch 45/100\n",
            "4/4 [==============================] - 0s 18ms/step - loss: 0.0085 - accuracy: 1.0000 - val_loss: 0.0060 - val_accuracy: 1.0000\n",
            "Epoch 46/100\n",
            "4/4 [==============================] - 0s 14ms/step - loss: 0.0087 - accuracy: 1.0000 - val_loss: 0.0059 - val_accuracy: 1.0000\n",
            "Epoch 47/100\n",
            "4/4 [==============================] - 0s 14ms/step - loss: 0.0073 - accuracy: 1.0000 - val_loss: 0.0057 - val_accuracy: 1.0000\n",
            "Epoch 48/100\n",
            "4/4 [==============================] - 0s 13ms/step - loss: 0.0092 - accuracy: 1.0000 - val_loss: 0.0056 - val_accuracy: 1.0000\n",
            "Epoch 49/100\n",
            "4/4 [==============================] - 0s 13ms/step - loss: 0.0065 - accuracy: 1.0000 - val_loss: 0.0054 - val_accuracy: 1.0000\n",
            "Epoch 50/100\n",
            "4/4 [==============================] - 0s 14ms/step - loss: 0.0079 - accuracy: 1.0000 - val_loss: 0.0053 - val_accuracy: 1.0000\n",
            "Epoch 51/100\n",
            "4/4 [==============================] - 0s 13ms/step - loss: 0.0058 - accuracy: 1.0000 - val_loss: 0.0052 - val_accuracy: 1.0000\n",
            "Epoch 52/100\n",
            "4/4 [==============================] - 0s 13ms/step - loss: 0.0060 - accuracy: 1.0000 - val_loss: 0.0051 - val_accuracy: 1.0000\n",
            "Epoch 53/100\n",
            "4/4 [==============================] - 0s 13ms/step - loss: 0.0074 - accuracy: 1.0000 - val_loss: 0.0049 - val_accuracy: 1.0000\n",
            "Epoch 54/100\n",
            "4/4 [==============================] - 0s 13ms/step - loss: 0.0101 - accuracy: 1.0000 - val_loss: 0.0048 - val_accuracy: 1.0000\n",
            "Epoch 55/100\n",
            "4/4 [==============================] - 0s 14ms/step - loss: 0.0054 - accuracy: 1.0000 - val_loss: 0.0047 - val_accuracy: 1.0000\n",
            "Epoch 56/100\n",
            "4/4 [==============================] - 0s 14ms/step - loss: 0.0053 - accuracy: 1.0000 - val_loss: 0.0046 - val_accuracy: 1.0000\n",
            "Epoch 57/100\n",
            "4/4 [==============================] - 0s 13ms/step - loss: 0.0054 - accuracy: 1.0000 - val_loss: 0.0045 - val_accuracy: 1.0000\n",
            "Epoch 58/100\n",
            "4/4 [==============================] - 0s 13ms/step - loss: 0.0079 - accuracy: 1.0000 - val_loss: 0.0044 - val_accuracy: 1.0000\n",
            "Epoch 59/100\n",
            "4/4 [==============================] - 0s 13ms/step - loss: 0.0058 - accuracy: 1.0000 - val_loss: 0.0043 - val_accuracy: 1.0000\n",
            "Epoch 60/100\n",
            "4/4 [==============================] - 0s 12ms/step - loss: 0.0071 - accuracy: 1.0000 - val_loss: 0.0041 - val_accuracy: 1.0000\n",
            "Epoch 61/100\n",
            "4/4 [==============================] - 0s 14ms/step - loss: 0.0051 - accuracy: 1.0000 - val_loss: 0.0040 - val_accuracy: 1.0000\n",
            "Epoch 62/100\n",
            "4/4 [==============================] - 0s 13ms/step - loss: 0.0048 - accuracy: 1.0000 - val_loss: 0.0039 - val_accuracy: 1.0000\n",
            "Epoch 63/100\n",
            "4/4 [==============================] - 0s 15ms/step - loss: 0.0050 - accuracy: 1.0000 - val_loss: 0.0038 - val_accuracy: 1.0000\n",
            "Epoch 64/100\n",
            "4/4 [==============================] - 0s 14ms/step - loss: 0.0043 - accuracy: 1.0000 - val_loss: 0.0036 - val_accuracy: 1.0000\n",
            "Epoch 65/100\n",
            "4/4 [==============================] - 0s 12ms/step - loss: 0.0046 - accuracy: 1.0000 - val_loss: 0.0035 - val_accuracy: 1.0000\n",
            "Epoch 66/100\n",
            "4/4 [==============================] - 0s 13ms/step - loss: 0.0039 - accuracy: 1.0000 - val_loss: 0.0034 - val_accuracy: 1.0000\n",
            "Epoch 67/100\n",
            "4/4 [==============================] - 0s 14ms/step - loss: 0.0046 - accuracy: 1.0000 - val_loss: 0.0034 - val_accuracy: 1.0000\n",
            "Epoch 68/100\n",
            "4/4 [==============================] - 0s 13ms/step - loss: 0.0050 - accuracy: 1.0000 - val_loss: 0.0033 - val_accuracy: 1.0000\n",
            "Epoch 69/100\n",
            "4/4 [==============================] - 0s 13ms/step - loss: 0.0041 - accuracy: 1.0000 - val_loss: 0.0032 - val_accuracy: 1.0000\n",
            "Epoch 70/100\n",
            "4/4 [==============================] - 0s 14ms/step - loss: 0.0057 - accuracy: 1.0000 - val_loss: 0.0031 - val_accuracy: 1.0000\n",
            "Epoch 71/100\n",
            "4/4 [==============================] - 0s 20ms/step - loss: 0.0052 - accuracy: 1.0000 - val_loss: 0.0030 - val_accuracy: 1.0000\n",
            "Epoch 72/100\n",
            "4/4 [==============================] - 0s 13ms/step - loss: 0.0037 - accuracy: 1.0000 - val_loss: 0.0030 - val_accuracy: 1.0000\n",
            "Epoch 73/100\n",
            "4/4 [==============================] - 0s 19ms/step - loss: 0.0042 - accuracy: 1.0000 - val_loss: 0.0029 - val_accuracy: 1.0000\n",
            "Epoch 74/100\n",
            "4/4 [==============================] - 0s 13ms/step - loss: 0.0042 - accuracy: 1.0000 - val_loss: 0.0029 - val_accuracy: 1.0000\n",
            "Epoch 75/100\n",
            "4/4 [==============================] - 0s 13ms/step - loss: 0.0043 - accuracy: 1.0000 - val_loss: 0.0028 - val_accuracy: 1.0000\n",
            "Epoch 76/100\n",
            "4/4 [==============================] - 0s 19ms/step - loss: 0.0035 - accuracy: 1.0000 - val_loss: 0.0028 - val_accuracy: 1.0000\n",
            "Epoch 77/100\n",
            "4/4 [==============================] - 0s 14ms/step - loss: 0.0037 - accuracy: 1.0000 - val_loss: 0.0027 - val_accuracy: 1.0000\n",
            "Epoch 78/100\n",
            "4/4 [==============================] - 0s 14ms/step - loss: 0.0045 - accuracy: 1.0000 - val_loss: 0.0027 - val_accuracy: 1.0000\n",
            "Epoch 79/100\n",
            "4/4 [==============================] - 0s 15ms/step - loss: 0.0050 - accuracy: 1.0000 - val_loss: 0.0026 - val_accuracy: 1.0000\n",
            "Epoch 80/100\n",
            "4/4 [==============================] - 0s 14ms/step - loss: 0.0039 - accuracy: 1.0000 - val_loss: 0.0026 - val_accuracy: 1.0000\n",
            "Epoch 81/100\n",
            "4/4 [==============================] - 0s 14ms/step - loss: 0.0026 - accuracy: 1.0000 - val_loss: 0.0025 - val_accuracy: 1.0000\n",
            "Epoch 82/100\n",
            "4/4 [==============================] - 0s 17ms/step - loss: 0.0031 - accuracy: 1.0000 - val_loss: 0.0025 - val_accuracy: 1.0000\n",
            "Epoch 83/100\n",
            "4/4 [==============================] - 0s 20ms/step - loss: 0.0022 - accuracy: 1.0000 - val_loss: 0.0024 - val_accuracy: 1.0000\n",
            "Epoch 84/100\n",
            "4/4 [==============================] - 0s 13ms/step - loss: 0.0035 - accuracy: 1.0000 - val_loss: 0.0024 - val_accuracy: 1.0000\n",
            "Epoch 85/100\n",
            "4/4 [==============================] - 0s 14ms/step - loss: 0.0028 - accuracy: 1.0000 - val_loss: 0.0024 - val_accuracy: 1.0000\n",
            "Epoch 86/100\n",
            "4/4 [==============================] - 0s 14ms/step - loss: 0.0030 - accuracy: 1.0000 - val_loss: 0.0023 - val_accuracy: 1.0000\n",
            "Epoch 87/100\n",
            "4/4 [==============================] - 0s 14ms/step - loss: 0.0040 - accuracy: 1.0000 - val_loss: 0.0023 - val_accuracy: 1.0000\n",
            "Epoch 88/100\n",
            "4/4 [==============================] - 0s 14ms/step - loss: 0.0040 - accuracy: 1.0000 - val_loss: 0.0022 - val_accuracy: 1.0000\n",
            "Epoch 89/100\n",
            "4/4 [==============================] - 0s 14ms/step - loss: 0.0034 - accuracy: 1.0000 - val_loss: 0.0022 - val_accuracy: 1.0000\n",
            "Epoch 90/100\n",
            "4/4 [==============================] - 0s 19ms/step - loss: 0.0025 - accuracy: 1.0000 - val_loss: 0.0022 - val_accuracy: 1.0000\n",
            "Epoch 91/100\n",
            "4/4 [==============================] - 0s 13ms/step - loss: 0.0030 - accuracy: 1.0000 - val_loss: 0.0021 - val_accuracy: 1.0000\n",
            "Epoch 92/100\n",
            "4/4 [==============================] - 0s 13ms/step - loss: 0.0028 - accuracy: 1.0000 - val_loss: 0.0021 - val_accuracy: 1.0000\n",
            "Epoch 93/100\n",
            "4/4 [==============================] - 0s 13ms/step - loss: 0.0023 - accuracy: 1.0000 - val_loss: 0.0020 - val_accuracy: 1.0000\n",
            "Epoch 94/100\n",
            "4/4 [==============================] - 0s 13ms/step - loss: 0.0030 - accuracy: 1.0000 - val_loss: 0.0020 - val_accuracy: 1.0000\n",
            "Epoch 95/100\n",
            "4/4 [==============================] - 0s 15ms/step - loss: 0.0034 - accuracy: 1.0000 - val_loss: 0.0020 - val_accuracy: 1.0000\n",
            "Epoch 96/100\n",
            "4/4 [==============================] - 0s 16ms/step - loss: 0.0031 - accuracy: 1.0000 - val_loss: 0.0019 - val_accuracy: 1.0000\n",
            "Epoch 97/100\n",
            "4/4 [==============================] - 0s 15ms/step - loss: 0.0030 - accuracy: 1.0000 - val_loss: 0.0019 - val_accuracy: 1.0000\n",
            "Epoch 98/100\n",
            "4/4 [==============================] - 0s 14ms/step - loss: 0.0022 - accuracy: 1.0000 - val_loss: 0.0019 - val_accuracy: 1.0000\n",
            "Epoch 99/100\n",
            "4/4 [==============================] - 0s 21ms/step - loss: 0.0026 - accuracy: 1.0000 - val_loss: 0.0018 - val_accuracy: 1.0000\n",
            "Epoch 100/100\n",
            "4/4 [==============================] - 0s 19ms/step - loss: 0.0028 - accuracy: 1.0000 - val_loss: 0.0018 - val_accuracy: 1.0000\n"
          ]
        }
      ]
    },
    {
      "cell_type": "code",
      "source": [
        "# Evaluate the model\n",
        "loss, accuracy = model.evaluate(X_test_scaled, y_test_encoded)\n",
        "print(\"Test Accuracy:\", accuracy)\n"
      ],
      "metadata": {
        "colab": {
          "base_uri": "https://localhost:8080/"
        },
        "id": "DfUbO2N2m4Kp",
        "outputId": "16bafd9d-dec8-4b2b-a2da-027978b51f79"
      },
      "execution_count": null,
      "outputs": [
        {
          "output_type": "stream",
          "name": "stdout",
          "text": [
            "1/1 [==============================] - 0s 33ms/step - loss: 0.0018 - accuracy: 1.0000\n",
            "Test Accuracy: 1.0\n"
          ]
        }
      ]
    },
    {
      "cell_type": "code",
      "source": [
        "# Predict on test data\n",
        "predictions = model.predict(X_test_scaled)\n",
        "predicted_classes = np.argmax(predictions, axis=1)\n",
        "\n",
        "# Print classification report\n",
        "from sklearn.metrics import classification_report\n",
        "print(classification_report(y_test_encoded, predicted_classes))\n"
      ],
      "metadata": {
        "colab": {
          "base_uri": "https://localhost:8080/"
        },
        "id": "19GhGJz_m6Tc",
        "outputId": "e928655a-0155-48e5-8972-54b39842c49b"
      },
      "execution_count": null,
      "outputs": [
        {
          "output_type": "stream",
          "name": "stdout",
          "text": [
            "1/1 [==============================] - 0s 286ms/step\n",
            "              precision    recall  f1-score   support\n",
            "\n",
            "           0       1.00      1.00      1.00         5\n",
            "           1       1.00      1.00      1.00         2\n",
            "           2       1.00      1.00      1.00         3\n",
            "           3       1.00      1.00      1.00         5\n",
            "\n",
            "    accuracy                           1.00        15\n",
            "   macro avg       1.00      1.00      1.00        15\n",
            "weighted avg       1.00      1.00      1.00        15\n",
            "\n"
          ]
        }
      ]
    },
    {
      "cell_type": "markdown",
      "source": [
        "# **Dataset analysis**"
      ],
      "metadata": {
        "id": "tVrd0t5nxLgs"
      }
    },
    {
      "cell_type": "markdown",
      "source": [
        "Each entry 201 attributes, the last one class attribute.\n",
        "\n",
        "Training dataset:\n",
        " -Genotype-M1: 16 entitites\n",
        " -Genotype-M2: 16 entities\n",
        " -Genotype-1: 16 entries\n",
        " -Genotype-2: 16 entries\n",
        "\n",
        "So, the training dataset is balanced(each class is equally represented).\n",
        "\n",
        "Testing dataset:\n",
        " -Genotype-M1: 2 entitites\n",
        " -Genotype-M2: 2 entities\n",
        " -Genotype-1: 2 entries\n",
        " -Genotype-2: 2 entries\n",
        "\n",
        "So, the testing dataset is balanced(each class is equally represented)."
      ],
      "metadata": {
        "id": "SDR_bpNRxRlK"
      }
    },
    {
      "cell_type": "markdown",
      "source": [
        "# **Here I am trying to use one hot encoding and Hamming Distance instead**"
      ],
      "metadata": {
        "id": "_l61b1oj0UvB"
      }
    },
    {
      "cell_type": "code",
      "source": [
        "import pandas as pd\n",
        "from sklearn.neighbors import KNeighborsClassifier\n",
        "from sklearn.metrics import classification_report, confusion_matrix\n",
        "from sklearn.preprocessing import OneHotEncoder\n",
        "from sklearn.compose import ColumnTransformer\n",
        "\n",
        "# Load your training and test data\n",
        "train_data_path = \"/content/training_Helicobacter pylori.data\"\n",
        "test_data_path = \"/content/test_Helicobacter pylori.data\"\n",
        "\n",
        "train_data = pd.read_csv(train_data_path, header=None, delimiter=',')\n",
        "test_data = pd.read_csv(test_data_path, header=None, delimiter=',')\n",
        "\n",
        "# Assuming the last column is the target variable for both train and test datasets\n",
        "X_train = train_data.iloc[:, :-1]\n",
        "y_train = train_data.iloc[:, -1]\n",
        "X_test = test_data.iloc[:, :-1]\n",
        "y_test = test_data.iloc[:, -1]\n",
        "\n",
        "# One-hot encode categorical features\n",
        "encoder = OneHotEncoder()\n",
        "X_train_encoded = encoder.fit_transform(X_train)\n",
        "X_test_encoded = encoder.fit_transform(X_test)\n",
        "\n",
        "\n",
        "# Initialize the KNeighborsClassifier\n",
        "classifier = KNeighborsClassifier(n_neighbors=5, metric='hamming')\n",
        "\n",
        "# Train the classifier\n",
        "classifier.fit(X_train, y_train)\n",
        "\n",
        "# Predict the labels of the test set\n",
        "y_predicted = classifier.predict(X_test)\n",
        "\n",
        "# Evaluate the model\n",
        "print(confusion_matrix(y_test, y_predicted))\n",
        "print(classification_report(y_test, y_predicted))\n"
      ],
      "metadata": {
        "colab": {
          "base_uri": "https://localhost:8080/"
        },
        "id": "s8XBpsFq1EIw",
        "outputId": "f7907688-fe21-4651-bc10-d642db0e65dc"
      },
      "execution_count": null,
      "outputs": [
        {
          "output_type": "stream",
          "name": "stdout",
          "text": [
            "[[2 0 0 0]\n",
            " [0 2 0 0]\n",
            " [0 0 2 0]\n",
            " [0 0 0 2]]\n",
            "              precision    recall  f1-score   support\n",
            "\n",
            "  Genotype-1       1.00      1.00      1.00         2\n",
            "  Genotype-2       1.00      1.00      1.00         2\n",
            " Genotype-M1       1.00      1.00      1.00         2\n",
            " Genotype-M2       1.00      1.00      1.00         2\n",
            "\n",
            "    accuracy                           1.00         8\n",
            "   macro avg       1.00      1.00      1.00         8\n",
            "weighted avg       1.00      1.00      1.00         8\n",
            "\n"
          ]
        }
      ]
    },
    {
      "cell_type": "markdown",
      "source": [
        "# **PCA**"
      ],
      "metadata": {
        "id": "elM6Wdrgjwc8"
      }
    },
    {
      "cell_type": "code",
      "source": [
        "import numpy as np\n",
        "import pandas as pd\n",
        "from sklearn.preprocessing import StandardScaler\n",
        "import matplotlib.pyplot as plt\n",
        "\n",
        "# Load your dataset\n",
        "data_path = \"/content/combined_Helicobacter_pylori.data\"\n",
        "data = pd.read_csv(data_path, header=None)\n",
        "target = data.iloc[:, -1]\n",
        "data = data.iloc[:, :-1]\n",
        "\n",
        "# Standardize the data\n",
        "scaler = StandardScaler()\n",
        "data_standardized = scaler.fit_transform(data)\n",
        "print(\"Data before PCA:\", data_standardized.shape)\n",
        "print(\"Example of 2 samples:\", data_standardized[:2, :])"
      ],
      "metadata": {
        "colab": {
          "base_uri": "https://localhost:8080/"
        },
        "id": "HwDTSWit3N4v",
        "outputId": "31036192-1135-4f71-f9d4-d54a954eb618"
      },
      "execution_count": null,
      "outputs": [
        {
          "output_type": "stream",
          "name": "stdout",
          "text": [
            "Data before PCA: (71, 200)\n",
            "Example of 2 samples: [[-1.01418511  0.          1.00363943  0.33071891 -1.01418511  1.01418511\n",
            "  -0.97716212 -1.01418511  1.01418511  1.00342902  0.          0.27524094\n",
            "   0.95860259  0.          0.95860259  1.00801634  0.          1.01418511\n",
            "   1.01418511  0.          0.62622429 -1.01418511 -1.01418511  0.67976924\n",
            "  -1.01418511 -1.01418511  1.01418511 -0.74151419  0.62578077  0.97558795\n",
            "  -0.90582163 -0.54660817 -0.94408124 -1.16598311 -0.47343208  0.7145896\n",
            "  -0.45173702  0.56936942  0.97984693  0.28578809 -0.62622429 -0.66129346\n",
            "  -0.61751353  1.01418511 -0.40643715 -0.54543245  0.08518586 -0.52537874\n",
            "  -0.73724678 -0.36320016 -1.05901685 -0.85539892 -0.64273516 -0.49993801\n",
            "   0.55384878  0.90527968  0.90527968  1.07794671 -0.51536118  0.53913101\n",
            "   0.71992099  0.98353922  0.92986961  0.49127649 -0.23207321 -0.46094751\n",
            "  -0.63857273 -0.53766246  1.31036972  0.09050495 -0.35791143 -0.95860259\n",
            "   0.1501669  -0.03388911 -0.3984314  -0.81121278 -0.01144815  2.19845664\n",
            "   0.27915411 -0.46604027  0.71391887  1.50745379  0.4421896   0.53881317\n",
            "  -0.29700719  0.111671   -0.57030896 -0.67088106 -0.30664405  0.78762819\n",
            "   0.54606379 -0.80695825 -0.42829958 -1.03293868 -0.84542935 -1.0723429\n",
            "  -0.14263724  0.90064118  0.77826111 -0.80394335  0.9693646   0.02543723\n",
            "   0.69931193  0.42466504  0.7013888  -0.43739841 -0.33196648  0.88564121\n",
            "  -0.3598145  -0.2743644   1.01102514 -0.50759133  0.9151452  -0.63381499\n",
            "  -0.88034084 -0.51942482 -0.22121338 -0.14179276  1.00474559 -0.54271931\n",
            "   0.72042765  0.4097136  -0.34219305  0.07097661 -0.45848488 -0.40908156\n",
            "  -0.43177253 -0.84558909  1.48512778  0.58277152 -0.56110103 -0.53357399\n",
            "   0.61287242  1.55929275 -0.57076669 -0.3036247   0.98230837 -0.7478084\n",
            "  -0.42502344 -0.69863079  0.72022261  0.32828924 -0.66747903  0.8811266\n",
            "  -0.99086807  0.44034836 -1.18334274 -0.06744037 -0.58592922 -0.61067846\n",
            "   1.66233852  1.36013418  0.98885223  0.92690523 -0.47864716 -0.69476468\n",
            "  -1.15184237 -0.3433722   1.00931684 -0.53605394  0.69144039 -0.48776228\n",
            "  -0.38602846  0.09517721 -0.62080884 -0.57210461  0.51731991  0.70518321\n",
            "  -0.39951785 -0.39737875  0.18256155 -0.02649142 -0.05371346  0.4760166\n",
            "  -0.62984851 -0.50736557  0.5817578   0.53003765  0.54913299  1.005366\n",
            "  -0.74956214  1.64591743 -0.94084217 -0.65230207 -0.24917682 -0.44741249\n",
            "  -0.17025131 -0.60447052  0.59978859  0.15276001 -0.17025131 -0.60097413\n",
            "   0.37255425  0.37255425 -0.40972659 -0.65896303 -0.3431443   1.09798813\n",
            "  -0.59621763  0.59849903]\n",
            " [-1.01418511  0.          1.00363943  0.33071891 -1.01418511  1.01418511\n",
            "  -0.97716212 -1.01418511  1.01418511  1.00342902  0.          0.27524094\n",
            "   0.95860259  0.          0.95860259  1.00801634  0.          1.01418511\n",
            "   1.01418511  0.          0.62622429 -1.01418511 -1.01418511  0.67976924\n",
            "  -1.01418511 -1.01418511  1.01418511 -0.74151419  0.62578077  0.97558795\n",
            "  -0.90582163 -0.54660817 -0.94408124 -1.16598311 -0.47343208  0.7145896\n",
            "  -0.45173702  0.56936942  0.97984693  0.28578809 -0.62622429 -0.66129346\n",
            "  -0.61751353  1.01418511 -0.40643715 -0.54543245  0.08518586 -0.52537874\n",
            "  -0.73724678 -0.36320016 -1.05901685 -0.85539892 -0.64273516 -0.49993801\n",
            "   0.55384878  0.90527968  0.90527968  1.07794671 -0.51536118  0.53913101\n",
            "   0.71992099  0.98353922  0.92986961  0.49127649 -0.23207321 -0.46094751\n",
            "  -0.63857273 -0.53766246  1.31036972  0.09050495 -0.35791143 -0.95860259\n",
            "   0.1501669  -0.03388911 -0.3984314  -0.81121278 -0.01144815  2.19845664\n",
            "   0.27915411 -0.46604027  0.71391887  1.50745379  0.4421896   0.53881317\n",
            "  -0.29700719  0.111671   -0.57030896 -0.67088106 -0.30664405  0.78762819\n",
            "   0.54606379 -0.80695825 -0.42829958 -1.03293868 -0.84542935 -1.0723429\n",
            "  -0.14263724  0.90064118  0.77826111 -0.80394335  0.9693646   0.02543723\n",
            "   0.69931193  0.42466504  0.7013888  -0.43739841 -0.33196648  0.88564121\n",
            "  -0.3598145  -0.2743644   1.01102514 -0.50759133  0.9151452  -0.63381499\n",
            "  -0.88034084 -0.51942482 -0.22121338 -0.14179276  1.00474559 -0.54271931\n",
            "   0.72042765  0.4097136  -0.34219305  0.07097661 -0.94434198 -0.40908156\n",
            "  -0.43177253 -0.84558909  1.48512778  0.58277152 -0.56110103 -0.53357399\n",
            "   0.61287242  1.55929275 -0.57076669 -0.3036247   0.98230837 -0.7478084\n",
            "  -0.42502344 -0.69863079  0.72022261  0.32828924 -0.66747903  0.8811266\n",
            "  -0.99086807  0.44034836 -1.18334274 -0.06744037 -0.58592922 -0.61067846\n",
            "   1.66233852  1.36013418  0.98885223  0.92690523 -0.47864716 -0.69476468\n",
            "  -1.15184237 -0.3433722   1.00931684 -0.53605394  0.69144039 -0.48776228\n",
            "  -0.38602846  0.09517721 -0.62080884 -0.57210461  0.51731991  0.70518321\n",
            "  -0.39951785 -0.39737875  0.18256155 -0.02649142 -0.05371346  0.4760166\n",
            "  -0.62984851 -0.50736557  0.5817578   0.53003765  0.54913299  1.005366\n",
            "  -0.74956214  1.64591743 -0.94084217 -0.65230207 -0.24917682 -0.44741249\n",
            "  -0.17025131 -0.60447052  0.59978859  0.15276001 -0.17025131 -0.60097413\n",
            "   0.37255425  0.37255425 -0.40972659 -0.65896303 -0.3431443   1.09798813\n",
            "  -0.59621763  0.59849903]]\n"
          ]
        }
      ]
    },
    {
      "cell_type": "code",
      "source": [
        "# Calculate the covariance matrix\n",
        "covariance_matrix = np.cov(data_standardized, rowvar=False)\n",
        "print(\"Covariance Matrix:\", covariance_matrix)\n",
        "\n",
        "# Calculate eigenvectors and eigenvalues\n",
        "eigenvalues, eigenvectors = np.linalg.eig(covariance_matrix)\n",
        "print(\"eigenvalues Matrix:\", eigenvalues)\n"
      ],
      "metadata": {
        "colab": {
          "base_uri": "https://localhost:8080/"
        },
        "id": "h0ipHi6H4DXI",
        "outputId": "9a203640-77cb-4ecf-9059-28032d4e556b"
      },
      "execution_count": null,
      "outputs": [
        {
          "output_type": "stream",
          "name": "stdout",
          "text": [
            "Covariance Matrix: [[ 1.01428571  0.         -1.00373899 ... -0.20247681  0.59627677\n",
            "  -0.59855841]\n",
            " [ 0.          0.          0.         ...  0.          0.\n",
            "   0.        ]\n",
            " [-1.00373899  0.          1.01428571 ...  0.18882222 -0.54723365\n",
            "   0.63509059]\n",
            " ...\n",
            " [-0.20247681  0.          0.18882222 ...  1.01428571 -0.52301464\n",
            "  -0.28367687]\n",
            " [ 0.59627677  0.         -0.54723365 ... -0.52301464  1.01428571\n",
            "   0.31052254]\n",
            " [-0.59855841  0.          0.63509059 ... -0.28367687  0.31052254\n",
            "   1.01428571]]\n",
            "eigenvalues Matrix: [ 6.86667892e+01+0.00000000e+00j  3.81053619e+01+0.00000000e+00j\n",
            "  2.63429359e+01+0.00000000e+00j  1.39487748e+01+0.00000000e+00j\n",
            "  1.23141385e+01+0.00000000e+00j  8.63888806e+00+0.00000000e+00j\n",
            "  5.59365663e+00+0.00000000e+00j  4.66437734e+00+0.00000000e+00j\n",
            "  2.87013707e+00+0.00000000e+00j  2.49802849e+00+0.00000000e+00j\n",
            "  1.38687608e+00+0.00000000e+00j  1.17913793e+00+0.00000000e+00j\n",
            "  1.00405490e+00+0.00000000e+00j  9.97952250e-01+0.00000000e+00j\n",
            "  9.21267330e-01+0.00000000e+00j  8.39260448e-01+0.00000000e+00j\n",
            "  8.13468245e-01+0.00000000e+00j  7.26335534e-01+0.00000000e+00j\n",
            "  6.97098634e-01+0.00000000e+00j  6.44404881e-01+0.00000000e+00j\n",
            "  5.90684964e-01+0.00000000e+00j  5.88270437e-01+0.00000000e+00j\n",
            "  5.12135624e-01+0.00000000e+00j  4.49107285e-01+0.00000000e+00j\n",
            "  2.86231729e-01+0.00000000e+00j  4.00995799e-01+0.00000000e+00j\n",
            "  3.46140460e-01+0.00000000e+00j  3.67990581e-01+0.00000000e+00j\n",
            "  2.48727938e-01+0.00000000e+00j  2.39063220e-01+0.00000000e+00j\n",
            "  2.21849143e-01+0.00000000e+00j  1.76571046e-01+0.00000000e+00j\n",
            "  1.73316419e-01+0.00000000e+00j  1.35173990e-01+0.00000000e+00j\n",
            "  1.50632856e-01+0.00000000e+00j  1.47927007e-01+0.00000000e+00j\n",
            "  1.20676946e-01+0.00000000e+00j  1.12533209e-01+0.00000000e+00j\n",
            "  8.85330356e-02+0.00000000e+00j  7.95237347e-02+0.00000000e+00j\n",
            "  6.47343997e-02+0.00000000e+00j  6.12432364e-02+0.00000000e+00j\n",
            "  5.84509046e-02+0.00000000e+00j  5.42920369e-02+0.00000000e+00j\n",
            "  4.34902857e-02+0.00000000e+00j  3.86471377e-02+0.00000000e+00j\n",
            "  3.38606411e-02+0.00000000e+00j  3.04201213e-02+0.00000000e+00j\n",
            "  2.44783547e-02+0.00000000e+00j  1.98973687e-02+0.00000000e+00j\n",
            "  1.89294233e-02+0.00000000e+00j  1.37297837e-02+0.00000000e+00j\n",
            "  1.28862846e-02+0.00000000e+00j  9.08932309e-03+0.00000000e+00j\n",
            "  8.08516617e-03+0.00000000e+00j  5.72601158e-03+0.00000000e+00j\n",
            "  4.24020392e-03+0.00000000e+00j  3.70836595e-03+0.00000000e+00j\n",
            "  3.21260722e-03+0.00000000e+00j  1.19241765e-03+0.00000000e+00j\n",
            "  6.56395167e-04+0.00000000e+00j -1.51989645e-14+0.00000000e+00j\n",
            "  1.09543133e-14+0.00000000e+00j -8.87716925e-15+0.00000000e+00j\n",
            "  7.49212931e-15+0.00000000e+00j -7.00803526e-15+0.00000000e+00j\n",
            "  7.11186512e-15+0.00000000e+00j  6.87757883e-15+0.00000000e+00j\n",
            " -6.25061262e-15+3.77229503e-16j -6.25061262e-15-3.77229503e-16j\n",
            " -6.24409192e-15+0.00000000e+00j -5.57040139e-15+1.20288781e-16j\n",
            " -5.57040139e-15-1.20288781e-16j  5.93488101e-15+0.00000000e+00j\n",
            "  5.58433818e-15+0.00000000e+00j  5.37989268e-15+2.63481043e-16j\n",
            "  5.37989268e-15-2.63481043e-16j -5.04158765e-15+6.20396074e-16j\n",
            " -5.04158765e-15-6.20396074e-16j -5.22042908e-15+0.00000000e+00j\n",
            "  5.00966395e-15+0.00000000e+00j  4.71324158e-15+8.99453127e-17j\n",
            "  4.71324158e-15-8.99453127e-17j  4.29972607e-15+3.23512254e-16j\n",
            "  4.29972607e-15-3.23512254e-16j  4.38015796e-15+0.00000000e+00j\n",
            " -4.74013171e-15+9.28594652e-17j -4.74013171e-15-9.28594652e-17j\n",
            " -4.52530738e-15+2.52797648e-16j -4.52530738e-15-2.52797648e-16j\n",
            " -4.21015541e-15+0.00000000e+00j -4.07937775e-15+0.00000000e+00j\n",
            " -3.73390509e-15+7.55311597e-16j -3.73390509e-15-7.55311597e-16j\n",
            " -3.64194661e-15+2.94232425e-16j -3.64194661e-15-2.94232425e-16j\n",
            " -3.38779206e-15+3.51692477e-16j -3.38779206e-15-3.51692477e-16j\n",
            " -3.44955137e-15+0.00000000e+00j  3.74934297e-15+1.85014422e-16j\n",
            "  3.74934297e-15-1.85014422e-16j  3.76910779e-15+0.00000000e+00j\n",
            "  3.55329225e-15+4.35761179e-16j  3.55329225e-15-4.35761179e-16j\n",
            "  3.47018546e-15+1.17896797e-16j  3.47018546e-15-1.17896797e-16j\n",
            "  3.32669252e-15+0.00000000e+00j  3.01954751e-15+0.00000000e+00j\n",
            "  2.94956941e-15+0.00000000e+00j -2.90938343e-15+3.13696771e-16j\n",
            " -2.90938343e-15-3.13696771e-16j -3.03263003e-15+0.00000000e+00j\n",
            " -2.45532431e-15+8.80640547e-16j -2.45532431e-15-8.80640547e-16j\n",
            " -2.69679335e-15+4.60224047e-16j -2.69679335e-15-4.60224047e-16j\n",
            "  2.57015375e-15+1.44148840e-16j  2.57015375e-15-1.44148840e-16j\n",
            "  2.34118497e-15+5.36717969e-16j  2.34118497e-15-5.36717969e-16j\n",
            "  2.44749023e-15+0.00000000e+00j -2.54468922e-15+1.14554611e-17j\n",
            " -2.54468922e-15-1.14554611e-17j  1.97021191e-15+9.23421810e-16j\n",
            "  1.97021191e-15-9.23421810e-16j  2.43331585e-15+2.29453565e-16j\n",
            "  2.43331585e-15-2.29453565e-16j -2.17056399e-15+3.18994082e-16j\n",
            " -2.17056399e-15-3.18994082e-16j  1.89799030e-15+6.72272487e-16j\n",
            "  1.89799030e-15-6.72272487e-16j  1.82941816e-15+4.22500418e-16j\n",
            "  1.82941816e-15-4.22500418e-16j  1.87832362e-15+7.99649735e-17j\n",
            "  1.87832362e-15-7.99649735e-17j  1.32499108e-15+7.07983661e-16j\n",
            "  1.32499108e-15-7.07983661e-16j -1.67364320e-15+4.88185503e-16j\n",
            " -1.67364320e-15-4.88185503e-16j -1.90352954e-15+0.00000000e+00j\n",
            " -1.57402918e-15+4.80075604e-16j -1.57402918e-15-4.80075604e-16j\n",
            " -1.75247647e-15+0.00000000e+00j -1.18343184e-15+7.40685684e-16j\n",
            " -1.18343184e-15-7.40685684e-16j  1.44190491e-15+1.80453491e-16j\n",
            "  1.44190491e-15-1.80453491e-16j -1.50382095e-15+1.28148737e-16j\n",
            " -1.50382095e-15-1.28148737e-16j  1.25144946e-15+0.00000000e+00j\n",
            "  8.15734900e-16+5.80861272e-16j  8.15734900e-16-5.80861272e-16j\n",
            " -6.96147403e-17+7.50858977e-16j -6.96147403e-17-7.50858977e-16j\n",
            " -9.59413800e-16+3.55719385e-16j -9.59413800e-16-3.55719385e-16j\n",
            " -1.22364996e-15+0.00000000e+00j -3.90896682e-16+5.83577144e-16j\n",
            " -3.90896682e-16-5.83577144e-16j  3.32951449e-16+6.94857670e-16j\n",
            "  3.32951449e-16-6.94857670e-16j  4.04861185e-16+6.25529695e-16j\n",
            "  4.04861185e-16-6.25529695e-16j  1.06787387e-15+0.00000000e+00j\n",
            " -1.14939527e-15+0.00000000e+00j -9.97480390e-16+4.21743177e-17j\n",
            " -9.97480390e-16-4.21743177e-17j -4.53768700e-16+4.31954999e-16j\n",
            " -4.53768700e-16-4.31954999e-16j  6.40388913e-16+2.84840397e-16j\n",
            "  6.40388913e-16-2.84840397e-16j -9.48022075e-17+4.50199745e-16j\n",
            " -9.48022075e-17-4.50199745e-16j -6.26131871e-16+7.75210013e-17j\n",
            " -6.26131871e-16-7.75210013e-17j  8.36058635e-16+1.15205498e-16j\n",
            "  8.36058635e-16-1.15205498e-16j  7.72053813e-16+0.00000000e+00j\n",
            "  3.52098135e-16+2.45423064e-16j  3.52098135e-16-2.45423064e-16j\n",
            "  1.92625656e-16+2.81455920e-16j  1.92625656e-16-2.81455920e-16j\n",
            " -3.46842545e-16+0.00000000e+00j -2.08715843e-16+0.00000000e+00j\n",
            "  1.55673025e-16+0.00000000e+00j  5.45051128e-17+8.94099963e-17j\n",
            "  5.45051128e-17-8.94099963e-17j -7.17309089e-17+0.00000000e+00j\n",
            "  2.72277675e-17+3.60034185e-17j  2.72277675e-17-3.60034185e-17j\n",
            " -1.64073444e-17+2.41288009e-17j -1.64073444e-17-2.41288009e-17j\n",
            "  1.96397491e-17+0.00000000e+00j -8.05233106e-18+0.00000000e+00j\n",
            "  1.45084318e-18+0.00000000e+00j  7.24222916e-23+0.00000000e+00j\n",
            "  0.00000000e+00+0.00000000e+00j  0.00000000e+00+0.00000000e+00j\n",
            "  0.00000000e+00+0.00000000e+00j  0.00000000e+00+0.00000000e+00j]\n"
          ]
        }
      ]
    },
    {
      "cell_type": "code",
      "source": [
        "# Sort eigenvectors by eigenvalues in descending order\n",
        "sorted_indices = np.argsort(eigenvalues)[::-1]\n",
        "eigenvectors_sorted = eigenvectors[:, sorted_indices]\n",
        "print(\"eigenvectors_sorted Matrix:\", eigenvectors_sorted)\n",
        "\n",
        "# Calculate cumulative explained variance\n",
        "cumulative_variance_ratio = np.cumsum(eigenvalues) / np.sum(eigenvalues)\n",
        "\n",
        "# Plot the explained variance\n",
        "plt.plot(range(1, len(cumulative_variance_ratio) + 1), cumulative_variance_ratio, marker='o')\n",
        "plt.title('Cumulative Explained Variance')\n",
        "plt.xlabel('Number of Principal Components')\n",
        "plt.ylabel('Cumulative Variance Ratio')\n",
        "plt.show()"
      ],
      "metadata": {
        "colab": {
          "base_uri": "https://localhost:8080/",
          "height": 760
        },
        "id": "dBnn6vza4Q7O",
        "outputId": "b998b91d-6d5d-499c-ab0b-69ed657066dc"
      },
      "execution_count": null,
      "outputs": [
        {
          "output_type": "stream",
          "name": "stdout",
          "text": [
            "eigenvectors_sorted Matrix: [[-0.12009778+0.j -0.02214088+0.j  0.0101988 +0.j ...  0.10355088+0.j\n",
            "   0.03425   +0.j  0.19651486+0.j]\n",
            " [ 0.        +0.j  0.        +0.j  0.        +0.j ...  0.        +0.j\n",
            "   0.        +0.j  0.        +0.j]\n",
            " [ 0.11805094+0.j  0.02949244+0.j -0.02145011+0.j ...  0.07358539+0.j\n",
            "   0.01728749+0.j -0.06924291+0.j]\n",
            " ...\n",
            " [ 0.03471389+0.j -0.09196967+0.j -0.02841038+0.j ... -0.11069787+0.j\n",
            "  -0.02930262+0.j  0.01434951+0.j]\n",
            " [-0.08502399+0.j  0.10742367+0.j -0.03256746+0.j ...  0.00095551+0.j\n",
            "  -0.09381866+0.j -0.04007066+0.j]\n",
            " [ 0.0564812 +0.j  0.13326167+0.j -0.04450356+0.j ... -0.07822299+0.j\n",
            "   0.17365995+0.j  0.18999859+0.j]]\n"
          ]
        },
        {
          "output_type": "stream",
          "name": "stderr",
          "text": [
            "/usr/local/lib/python3.10/dist-packages/matplotlib/cbook/__init__.py:1335: ComplexWarning: Casting complex values to real discards the imaginary part\n",
            "  return np.asarray(x, float)\n"
          ]
        },
        {
          "output_type": "display_data",
          "data": {
            "text/plain": [
              "<Figure size 640x480 with 1 Axes>"
            ],
            "image/png": "[encoded data removed]"
          },
          "metadata": {}
        }
      ]
    },
    {
      "cell_type": "code",
      "source": [
        "# Choose the number of components explaining, e.g., 95% of the variance\n",
        "num_components = np.argmax(cumulative_variance_ratio >= 0.95) + 1\n",
        "print(f\"Number of components explaining 95% of the variance: {num_components}\")\n",
        "\n",
        "# Choose the number of principal components\n",
        "selected_components = eigenvectors_sorted[:, :num_components]\n",
        "print(\"Principal Components:\", selected_components)\n",
        "\n",
        "# Project the data onto the selected principal components\n",
        "data_pca = np.dot(data_standardized, selected_components)\n",
        "print(\"Data after PCA:\", data_pca.shape)\n",
        "print(\"Example of 2 samples:\", data_pca[:2, :])\n",
        "\n",
        "# Create DataFrames for visualization\n",
        "df_pca = pd.DataFrame(data_pca, columns=[f'Principal Component {i+1}' for i in range(num_components)])\n",
        "df_pca['Target'] = target\n",
        "\n",
        "# Plot data after PCA\n",
        "plt.figure(figsize=(12, 6))\n",
        "for class_label in np.unique(target):\n",
        "    plt.scatter(df_pca.loc[df_pca['Target'] == class_label, 'Principal Component 1'],\n",
        "                df_pca.loc[df_pca['Target'] == class_label, 'Principal Component 2'],\n",
        "                label=f'Class {class_label}', alpha=0.7)\n",
        "plt.title('Data after PCA')\n",
        "plt.xlabel('Principal Component 1')\n",
        "plt.ylabel('Principal Component 2')\n",
        "plt.legend()\n",
        "plt.show()\n"
      ],
      "metadata": {
        "colab": {
          "base_uri": "https://localhost:8080/",
          "height": 950
        },
        "id": "cSd86jXu4XpW",
        "outputId": "3b1b79c0-e428-4537-8521-4f8cb0d6f718"
      },
      "execution_count": null,
      "outputs": [
        {
          "output_type": "stream",
          "name": "stdout",
          "text": [
            "Number of components explaining 95% of the variance: 15\n",
            "Principal Components: [[-0.12009778+0.j -0.02214088+0.j  0.0101988 +0.j ... -0.00553192+0.j\n",
            "  -0.00238759+0.j -0.00309894+0.j]\n",
            " [ 0.        +0.j  0.        +0.j  0.        +0.j ...  0.        +0.j\n",
            "   0.        +0.j  0.        +0.j]\n",
            " [ 0.11805094+0.j  0.02949244+0.j -0.02145011+0.j ... -0.01933067+0.j\n",
            "  -0.00511254+0.j -0.02295348+0.j]\n",
            " ...\n",
            " [ 0.03471389+0.j -0.09196967+0.j -0.02841038+0.j ...  0.00895669+0.j\n",
            "   0.02737769+0.j  0.01307563+0.j]\n",
            " [-0.08502399+0.j  0.10742367+0.j -0.03256746+0.j ...  0.00030943+0.j\n",
            "   0.00485733+0.j -0.00561425+0.j]\n",
            " [ 0.0564812 +0.j  0.13326167+0.j -0.04450356+0.j ...  0.00681885+0.j\n",
            "   0.00765724+0.j -0.00195599+0.j]]\n",
            "Data after PCA: (71, 15)\n",
            "Example of 2 samples: [[ 8.60348070e+00+0.j  1.41186129e+00+0.j  1.92842733e-01+0.j\n",
            "  -5.22483321e+00+0.j -1.35797795e+00+0.j -3.45952976e-01+0.j\n",
            "  -7.92075739e-02+0.j  7.98728943e-02+0.j  1.42234280e-02+0.j\n",
            "   8.93110356e-02+0.j -4.29654536e-02+0.j  2.64017472e-01+0.j\n",
            "  -1.30584879e-01+0.j -1.76755393e-01+0.j  2.60013973e-01+0.j]\n",
            " [ 8.60193201e+00+0.j  1.42307905e+00+0.j  1.54388310e-01+0.j\n",
            "  -5.26060988e+00+0.j -1.38065474e+00+0.j -4.55112185e-01+0.j\n",
            "  -7.12405271e-02+0.j  1.86392723e-01+0.j -3.28308146e-03+0.j\n",
            "   4.90655023e-02+0.j -6.44752788e-02+0.j  3.13357660e-01+0.j\n",
            "  -1.01052763e-01+0.j -1.55057475e-01+0.j  2.85268602e-01+0.j]]\n"
          ]
        },
        {
          "output_type": "stream",
          "name": "stderr",
          "text": [
            "/usr/local/lib/python3.10/dist-packages/matplotlib/collections.py:192: ComplexWarning: Casting complex values to real discards the imaginary part\n",
            "  offsets = np.asanyarray(offsets, float)\n"
          ]
        },
        {
          "output_type": "display_data",
          "data": {
            "text/plain": [
              "<Figure size 1200x600 with 1 Axes>"
            ],
            "image/png": "[encoded data removed]"
          },
          "metadata": {}
        }
      ]
    },
    {
      "cell_type": "markdown",
      "source": [
        "# **Decision Tree with data after PCA**"
      ],
      "metadata": {
        "id": "UBov1FLx6bB-"
      }
    },
    {
      "cell_type": "code",
      "source": [
        "import pandas as pd\n",
        "from sklearn.tree import DecisionTreeClassifier\n",
        "from sklearn.preprocessing import LabelEncoder\n",
        "from sklearn.metrics import classification_report, confusion_matrix\n",
        "from sklearn.decomposition import PCA\n",
        "from sklearn.preprocessing import StandardScaler\n",
        "from sklearn.model_selection import train_test_split\n",
        "\n",
        "\n",
        "# Load data\n",
        "data_path=\"/content/combined_Helicobacter_pylori.data\"\n",
        "\n",
        "data = pd.read_csv(data_path, header=None, delimiter=',')\n",
        "\n",
        "# Split features and target\n",
        "X = data.iloc[:, :-1].values  # Features (nucleotide sequences)\n",
        "y = data.iloc[:, -1].values   # Target labels (genotype)\n",
        "\n",
        "# Split the Dataset into Train and Test\n",
        "X_train, X_test, y_train, y_test = train_test_split(X, y, train_size=0.80)\n",
        "\n",
        "# Standardize the data\n",
        "scaler = StandardScaler()\n",
        "X_train_standardized = scaler.fit_transform(X_train)\n",
        "X_test_standardized = scaler.transform(X_test)\n",
        "\n",
        "# Apply PCA to reduce dimensionality\n",
        "pca = PCA(n_components=15)\n",
        "X_train_pca = pca.fit_transform(X_train_standardized)\n",
        "X_test_pca = pca.transform(X_test_standardized)\n",
        "\n",
        "# Encode the target variable\n",
        "labelencoder = LabelEncoder()\n",
        "y_train_encoded = labelencoder.fit_transform(y_train)\n",
        "y_test_encoded = labelencoder.transform(y_test)\n",
        "\n",
        "# Initialize the DecisionTreeClassifier\n",
        "classifier = DecisionTreeClassifier()\n",
        "\n",
        "# Train the classifier with PCA output\n",
        "classifier.fit(X_train_pca, y_train_encoded)\n",
        "\n",
        "# Predict the labels of the PCA-transformed test set\n",
        "y_predicted = classifier.predict(X_test_pca)\n",
        "\n",
        "# Evaluate the model\n",
        "print(confusion_matrix(y_test_encoded, y_predicted))\n",
        "print(classification_report(y_test_encoded, y_predicted))\n"
      ],
      "metadata": {
        "colab": {
          "base_uri": "https://localhost:8080/"
        },
        "id": "Py7WX5K769Kn",
        "outputId": "9aaadb74-13f6-400d-871a-1150bb7caf87"
      },
      "execution_count": null,
      "outputs": [
        {
          "output_type": "stream",
          "name": "stdout",
          "text": [
            "[[4 0 0 0]\n",
            " [1 5 0 0]\n",
            " [0 0 2 0]\n",
            " [0 0 0 3]]\n",
            "              precision    recall  f1-score   support\n",
            "\n",
            "           0       0.80      1.00      0.89         4\n",
            "           1       1.00      0.83      0.91         6\n",
            "           2       1.00      1.00      1.00         2\n",
            "           3       1.00      1.00      1.00         3\n",
            "\n",
            "    accuracy                           0.93        15\n",
            "   macro avg       0.95      0.96      0.95        15\n",
            "weighted avg       0.95      0.93      0.93        15\n",
            "\n"
          ]
        }
      ]
    },
    {
      "cell_type": "markdown",
      "source": [
        "# **Some Conclusions about Normalization and PCA**"
      ],
      "metadata": {
        "id": "4QD3Qpot-irj"
      }
    },
    {
      "cell_type": "markdown",
      "source": [
        "After a series of experiments conducted on the dataset, it was determined that normalization was not necessary for our analysis. Given that the attributes take one of four discrete values, these features do not exhibit a meaningful continuous scale that would benefit from normalization techniques, which are typically used to standardize ranges in data with variable distances and scales. Additionally, the application of Principal Component Analysis (PCA) was found to be unnecessary in this context. Due to the relatively small size of our dataset, PCA did not yield any performance improvements. However, in scenarios involving much larger datasets, possibly encompassing thousands of entries, the use of PCA could potentially be beneficial. In such cases, PCA can help in reducing dimensionality, thus speeding up processing times and possibly enhancing model performance by focusing on the most relevant features."
      ],
      "metadata": {
        "id": "x7yMEia6-q0L"
      }
    },
    {
      "cell_type": "markdown",
      "source": [
        "# **Data Normalization**"
      ],
      "metadata": {
        "id": "uMXQYqk6LgFk"
      }
    },
    {
      "cell_type": "code",
      "source": [
        "import pandas as pd\n",
        "import numpy as np\n",
        "from sklearn.preprocessing import MinMaxScaler, StandardScaler\n",
        "\n",
        "# Load the data\n",
        "file_path = \"/content/combined_Helicobacter_pylori.data\"\n",
        "data = pd.read_csv(file_path, header=None)\n",
        "\n",
        "# Separate features and target\n",
        "X = data.iloc[:, :-1]  # all columns except the last\n",
        "y = data.iloc[:, -1]   # the last column\n",
        "\n",
        "# Initialize scalers\n",
        "min_max_scaler = MinMaxScaler()\n",
        "standard_scaler = StandardScaler()\n",
        "\n",
        "# Apply MinMax normalization\n",
        "X_min_max = min_max_scaler.fit_transform(X)\n",
        "min_max_normalized_data = pd.DataFrame(X_min_max, columns=X.columns)\n",
        "min_max_normalized_data['Target'] = y\n",
        "min_max_normalized_data.to_csv('/content/min_max_normalized_data.csv', index=False)\n",
        "\n",
        "# Apply Standard normalization (Z-score)\n",
        "X_standard = standard_scaler.fit_transform(X)\n",
        "standard_normalized_data = pd.DataFrame(X_standard, columns=X.columns)\n",
        "standard_normalized_data['Target'] = y\n",
        "standard_normalized_data.to_csv('/content/standard_normalized_data.csv', index=False)\n",
        "\n",
        "# Decimal Scaling\n",
        "def decimal_scaling(data):\n",
        "    max_abs = np.abs(data).max()\n",
        "    factor = 10 ** np.ceil(np.log10(max_abs + 1e-9))\n",
        "    return data / factor\n",
        "\n",
        "X_decimal_scaled = decimal_scaling(X)\n",
        "decimal_scaled_data = pd.DataFrame(X_decimal_scaled, columns=X.columns)\n",
        "decimal_scaled_data['Target'] = y\n",
        "decimal_scaled_data.to_csv('/content/decimal_scaled_data.csv', index=False)\n"
      ],
      "metadata": {
        "id": "1cWsi-EIK0v1"
      },
      "execution_count": null,
      "outputs": []
    }
  ]
}